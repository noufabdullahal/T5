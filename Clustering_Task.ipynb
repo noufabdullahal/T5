{
  "cells": [
    {
      "cell_type": "markdown",
      "metadata": {
        "id": "view-in-github",
        "colab_type": "text"
      },
      "source": [
        "<a href=\"https://colab.research.google.com/github/noufabdullahal/T5/blob/main/Clustering_Task.ipynb\" target=\"_parent\"><img src=\"https://colab.research.google.com/assets/colab-badge.svg\" alt=\"Open In Colab\"/></a>"
      ]
    },
    {
      "cell_type": "markdown",
      "id": "f0946ef5",
      "metadata": {
        "id": "f0946ef5"
      },
      "source": [
        "# Clustering and Dimensionality Reduction Exam\n",
        "Welcome to the weekly project on clustering and dimensionality reduction. You will be working with a dataset of traffic accidents.\n",
        "\n",
        "## Dataset\n",
        "The dataset that will be used in this task is `Traffic_Accidents.csv`\n",
        "\n",
        "## Instructions\n",
        "- Follow the steps outlined below.\n",
        "- Write your code in the empty code cells.\n",
        "- Comment on your code to explain your reasoning.\n",
        "\n",
        "## Dataset Overview\n",
        "The dataset contains information about traffic accidents, including location, weather conditions, road conditions, and more. Below are sample of these columns:\n",
        "\n",
        "* `Location_Easting_OSGR`: Easting coordinate of the accident location.\n",
        "* `Location_Northing_OSGR`: Northing coordinate of the accident location.\n",
        "* `Longitude`: Longitude of the accident site.\n",
        "* `Latitude`: Latitude of the accident site.\n",
        "* `Police_Force`: Identifier for the police force involved.\n",
        "* `Accident_Severity`: Severity of the accident.\n",
        "* `Number_of_Vehicles`: Number of vehicles involved in the accident.\n",
        "* `Number_of_Casualties`: Number of casualties in the accident.\n",
        "* `Date`: Date of the accident.\n",
        "* `Day_of_Week`: Day of the week when the accident occurred.\n",
        "* `Speed_limit`: Speed limit in the area where the accident occurred.\n",
        "* `Weather_Conditions`: Weather conditions at the time of the accident.\n",
        "* `Road_Surface_Conditions`: Condition of the road surface during the accident.\n",
        "* `Urban_or_Rural_Area`: Whether the accident occurred in an urban or rural area.\n",
        "* `Year`: Year when the accident was recorded.\n",
        "* Additional attributes related to road type, pedestrian crossing, light conditions, etc.\n",
        "\n",
        "## Goal\n",
        "The primary goal is to analyze the accidents based on their geographical location.\n"
      ]
    },
    {
      "cell_type": "markdown",
      "source": [],
      "metadata": {
        "id": "hkKtvtxt7kLM"
      },
      "id": "hkKtvtxt7kLM"
    },
    {
      "cell_type": "markdown",
      "id": "e2d10a84",
      "metadata": {
        "id": "e2d10a84"
      },
      "source": [
        "## Import Libraries"
      ]
    },
    {
      "cell_type": "code",
      "execution_count": 37,
      "id": "9ee4bcdb",
      "metadata": {
        "id": "9ee4bcdb"
      },
      "outputs": [],
      "source": [
        "import pandas as pd\n",
        "import numpy as np\n",
        "import matplotlib.pyplot as plt\n",
        "from sklearn.datasets import make_blobs\n",
        "import matplotlib.pyplot as plt\n",
        "import seaborn as sns\n",
        "from sklearn.model_selection import train_test_split\n"
      ]
    },
    {
      "cell_type": "code",
      "source": [
        "from google.colab import drive\n",
        "drive.mount('/content/drive')"
      ],
      "metadata": {
        "id": "2KKL-ccHygJa",
        "outputId": "ea5075e2-734a-4fc2-b9d8-ee7adfa37561",
        "colab": {
          "base_uri": "https://localhost:8080/"
        }
      },
      "id": "2KKL-ccHygJa",
      "execution_count": 2,
      "outputs": [
        {
          "output_type": "stream",
          "name": "stdout",
          "text": [
            "Mounted at /content/drive\n"
          ]
        }
      ]
    },
    {
      "cell_type": "markdown",
      "id": "8a257dea",
      "metadata": {
        "id": "8a257dea"
      },
      "source": [
        "## Load the Data"
      ]
    },
    {
      "cell_type": "code",
      "execution_count": 3,
      "id": "2832846e",
      "metadata": {
        "id": "2832846e"
      },
      "outputs": [],
      "source": [
        "df = pd.read_csv('/content/drive/MyDrive/Traffic_Accidents.csv')"
      ]
    },
    {
      "cell_type": "markdown",
      "id": "4106d3c7",
      "metadata": {
        "id": "4106d3c7"
      },
      "source": [
        "## Exploratory Data Analysis (EDA)\n",
        "Perform EDA to understand the data better. This involves several steps to summarize the main characteristics, uncover patterns, and establish relationships:\n",
        "* Find the dataset information and observe the datatypes.\n",
        "* Check the shape of the data to understand its structure.\n",
        "* View the the data with various functions to get an initial sense of the data.\n",
        "* Perform summary statistics on the dataset to grasp central tendencies and variability.\n",
        "* Check for duplicated data.\n",
        "* Check for null values.\n",
        "\n",
        "And apply more if needed!\n"
      ]
    },
    {
      "cell_type": "code",
      "execution_count": 4,
      "id": "a49012c4",
      "metadata": {
        "id": "a49012c4",
        "outputId": "51f9fd79-19dd-40a1-d226-111ba135740b",
        "colab": {
          "base_uri": "https://localhost:8080/"
        }
      },
      "outputs": [
        {
          "output_type": "stream",
          "name": "stdout",
          "text": [
            "   Location_Easting_OSGR  Location_Northing_OSGR  Longitude   Latitude  \\\n",
            "0               560530.0                103950.0   0.277298  50.812789   \n",
            "1               508860.0                187170.0  -0.430574  51.572846   \n",
            "2               314460.0                169130.0  -3.231459  51.414661   \n",
            "3               341700.0                408330.0  -2.881800  53.568318   \n",
            "4               386488.0                350090.0  -2.203020  53.047882   \n",
            "\n",
            "   Police_Force  Accident_Severity  Number_of_Vehicles  Number_of_Casualties  \\\n",
            "0            47                3.0                   1                   1.0   \n",
            "1             1                3.0                   2                   1.0   \n",
            "2            62                3.0                   2                   1.0   \n",
            "3             4                3.0                   1                   2.0   \n",
            "4            21                3.0                   2                   2.0   \n",
            "\n",
            "         Date  Day_of_Week  ...  2nd_Road_Class 2nd_Road_Number  \\\n",
            "0  27/11/2009            6  ...              -1               0   \n",
            "1  10/10/2010            1  ...               6               0   \n",
            "2  14/09/2005            4  ...               3            4055   \n",
            "3  18/08/2007            7  ...               6               0   \n",
            "4  06/08/2013            3  ...              -1               0   \n",
            "\n",
            "   Pedestrian_Crossing-Human_Control  Pedestrian_Crossing-Physical_Facilities  \\\n",
            "0              None within 50 metres    No physical crossing within 50 meters   \n",
            "1              None within 50 metres    No physical crossing within 50 meters   \n",
            "2              None within 50 metres    No physical crossing within 50 meters   \n",
            "3              None within 50 metres    No physical crossing within 50 meters   \n",
            "4              None within 50 metres    No physical crossing within 50 meters   \n",
            "\n",
            "                          Light_Conditions          Weather_Conditions  \\\n",
            "0            Darkeness: No street lighting     Raining with high winds   \n",
            "1  Darkness: Street lights present and lit     Fine without high winds   \n",
            "2           Daylight: Street light present     Fine without high winds   \n",
            "3           Daylight: Street light present  Raining without high winds   \n",
            "4           Daylight: Street light present     Fine without high winds   \n",
            "\n",
            "     Road_Surface_Conditions  Urban_or_Rural_Area  \\\n",
            "0  Flood (Over 3cm of water)                  2.0   \n",
            "1                        Dry                  1.0   \n",
            "2                        Dry                  1.0   \n",
            "3                   Wet/Damp                  1.0   \n",
            "4                        Dry                  1.0   \n",
            "\n",
            "  Did_Police_Officer_Attend_Scene_of_Accident  Year  \n",
            "0                                         Yes  2009  \n",
            "1                                         Yes  2010  \n",
            "2                                         Yes  2005  \n",
            "3                                         Yes  2007  \n",
            "4                                         Yes  2013  \n",
            "\n",
            "[5 rows x 26 columns]\n"
          ]
        }
      ],
      "source": [
        "print(df.head())"
      ]
    },
    {
      "cell_type": "code",
      "source": [
        "print(df.info())"
      ],
      "metadata": {
        "id": "HYlT80Ki0GuH",
        "outputId": "43e86c51-f48f-47c8-8bdc-10b43cd7c838",
        "colab": {
          "base_uri": "https://localhost:8080/"
        }
      },
      "id": "HYlT80Ki0GuH",
      "execution_count": 5,
      "outputs": [
        {
          "output_type": "stream",
          "name": "stdout",
          "text": [
            "<class 'pandas.core.frame.DataFrame'>\n",
            "RangeIndex: 52000 entries, 0 to 51999\n",
            "Data columns (total 26 columns):\n",
            " #   Column                                       Non-Null Count  Dtype  \n",
            "---  ------                                       --------------  -----  \n",
            " 0   Location_Easting_OSGR                        52000 non-null  float64\n",
            " 1   Location_Northing_OSGR                       52000 non-null  float64\n",
            " 2   Longitude                                    52000 non-null  float64\n",
            " 3   Latitude                                     52000 non-null  float64\n",
            " 4   Police_Force                                 52000 non-null  int64  \n",
            " 5   Accident_Severity                            51678 non-null  float64\n",
            " 6   Number_of_Vehicles                           52000 non-null  int64  \n",
            " 7   Number_of_Casualties                         50959 non-null  float64\n",
            " 8   Date                                         52000 non-null  object \n",
            " 9   Day_of_Week                                  52000 non-null  int64  \n",
            " 10  Local_Authority_(District)                   52000 non-null  int64  \n",
            " 11  Local_Authority_(Highway)                    52000 non-null  object \n",
            " 12  1st_Road_Class                               52000 non-null  int64  \n",
            " 13  1st_Road_Number                              52000 non-null  int64  \n",
            " 14  Road_Type                                    52000 non-null  object \n",
            " 15  Speed_limit                                  52000 non-null  int64  \n",
            " 16  2nd_Road_Class                               52000 non-null  int64  \n",
            " 17  2nd_Road_Number                              52000 non-null  int64  \n",
            " 18  Pedestrian_Crossing-Human_Control            52000 non-null  object \n",
            " 19  Pedestrian_Crossing-Physical_Facilities      52000 non-null  object \n",
            " 20  Light_Conditions                             51456 non-null  object \n",
            " 21  Weather_Conditions                           52000 non-null  object \n",
            " 22  Road_Surface_Conditions                      52000 non-null  object \n",
            " 23  Urban_or_Rural_Area                          51912 non-null  float64\n",
            " 24  Did_Police_Officer_Attend_Scene_of_Accident  52000 non-null  object \n",
            " 25  Year                                         52000 non-null  int64  \n",
            "dtypes: float64(7), int64(10), object(9)\n",
            "memory usage: 10.3+ MB\n",
            "None\n"
          ]
        }
      ]
    },
    {
      "cell_type": "code",
      "source": [
        "\n",
        "print(df.isnull().sum())"
      ],
      "metadata": {
        "id": "bira-tJQ0LaB",
        "outputId": "00f42f42-777b-4ff2-f4c1-8942ddb85340",
        "colab": {
          "base_uri": "https://localhost:8080/"
        }
      },
      "id": "bira-tJQ0LaB",
      "execution_count": 6,
      "outputs": [
        {
          "output_type": "stream",
          "name": "stdout",
          "text": [
            "Location_Easting_OSGR                             0\n",
            "Location_Northing_OSGR                            0\n",
            "Longitude                                         0\n",
            "Latitude                                          0\n",
            "Police_Force                                      0\n",
            "Accident_Severity                               322\n",
            "Number_of_Vehicles                                0\n",
            "Number_of_Casualties                           1041\n",
            "Date                                              0\n",
            "Day_of_Week                                       0\n",
            "Local_Authority_(District)                        0\n",
            "Local_Authority_(Highway)                         0\n",
            "1st_Road_Class                                    0\n",
            "1st_Road_Number                                   0\n",
            "Road_Type                                         0\n",
            "Speed_limit                                       0\n",
            "2nd_Road_Class                                    0\n",
            "2nd_Road_Number                                   0\n",
            "Pedestrian_Crossing-Human_Control                 0\n",
            "Pedestrian_Crossing-Physical_Facilities           0\n",
            "Light_Conditions                                544\n",
            "Weather_Conditions                                0\n",
            "Road_Surface_Conditions                           0\n",
            "Urban_or_Rural_Area                              88\n",
            "Did_Police_Officer_Attend_Scene_of_Accident       0\n",
            "Year                                              0\n",
            "dtype: int64\n"
          ]
        }
      ]
    },
    {
      "cell_type": "code",
      "source": [
        "df['Number_of_Casualties'].fillna(df['Number_of_Casualties'].mean(),inplace=True)"
      ],
      "metadata": {
        "id": "LolChtk70ULM"
      },
      "id": "LolChtk70ULM",
      "execution_count": 7,
      "outputs": []
    },
    {
      "cell_type": "code",
      "source": [
        "df.dropna(axis=1, inplace=True)\n",
        "print(df)"
      ],
      "metadata": {
        "id": "D-Y96tdV2G68",
        "outputId": "c51f3480-3c04-449a-d4d8-fff227f30be9",
        "colab": {
          "base_uri": "https://localhost:8080/"
        }
      },
      "id": "D-Y96tdV2G68",
      "execution_count": 8,
      "outputs": [
        {
          "output_type": "stream",
          "name": "stdout",
          "text": [
            "       Location_Easting_OSGR  Location_Northing_OSGR  Longitude   Latitude  \\\n",
            "0                   560530.0                103950.0   0.277298  50.812789   \n",
            "1                   508860.0                187170.0  -0.430574  51.572846   \n",
            "2                   314460.0                169130.0  -3.231459  51.414661   \n",
            "3                   341700.0                408330.0  -2.881800  53.568318   \n",
            "4                   386488.0                350090.0  -2.203020  53.047882   \n",
            "...                      ...                     ...        ...        ...   \n",
            "51995               475125.0                319380.0  -0.888006  52.766777   \n",
            "51996               456682.0                127058.0  -1.192915  51.040030   \n",
            "51997               540510.0                152250.0   0.012032  51.252055   \n",
            "51998               434720.0                334000.0  -1.485264  52.902301   \n",
            "51999               454710.0                185430.0  -1.212104  51.565050   \n",
            "\n",
            "       Police_Force  Number_of_Vehicles  Number_of_Casualties        Date  \\\n",
            "0                47                   1                   1.0  27/11/2009   \n",
            "1                 1                   2                   1.0  10/10/2010   \n",
            "2                62                   2                   1.0  14/09/2005   \n",
            "3                 4                   1                   2.0  18/08/2007   \n",
            "4                21                   2                   2.0  06/08/2013   \n",
            "...             ...                 ...                   ...         ...   \n",
            "51995            33                   2                   1.0  31/08/2012   \n",
            "51996            44                   1                   1.0  08/05/2013   \n",
            "51997            45                   3                   1.0  01/11/2011   \n",
            "51998            30                   2                   2.0  22/07/2011   \n",
            "51999            43                   3                   1.0  24/05/2010   \n",
            "\n",
            "       Day_of_Week  Local_Authority_(District)  ...           Road_Type  \\\n",
            "0                6                         556  ...    Dual carriageway   \n",
            "1                1                          26  ...  Single carriageway   \n",
            "2                4                         746  ...  Single carriageway   \n",
            "3                7                          84  ...      One way street   \n",
            "4                3                         257  ...  Single carriageway   \n",
            "...            ...                         ...  ...                 ...   \n",
            "51995            6                         365  ...  Single carriageway   \n",
            "51996            4                         502  ...  Single carriageway   \n",
            "51997            3                         516  ...  Single carriageway   \n",
            "51998            6                         323  ...  Single carriageway   \n",
            "51999            2                         484  ...  Single carriageway   \n",
            "\n",
            "       Speed_limit  2nd_Road_Class 2nd_Road_Number  \\\n",
            "0               70              -1               0   \n",
            "1               30               6               0   \n",
            "2               30               3            4055   \n",
            "3               30               6               0   \n",
            "4               30              -1               0   \n",
            "...            ...             ...             ...   \n",
            "51995           30               6            6485   \n",
            "51996           60              -1               0   \n",
            "51997           40               6               0   \n",
            "51998           30               5              81   \n",
            "51999           60              -1               0   \n",
            "\n",
            "       Pedestrian_Crossing-Human_Control  \\\n",
            "0                  None within 50 metres   \n",
            "1                  None within 50 metres   \n",
            "2                  None within 50 metres   \n",
            "3                  None within 50 metres   \n",
            "4                  None within 50 metres   \n",
            "...                                  ...   \n",
            "51995              None within 50 metres   \n",
            "51996              None within 50 metres   \n",
            "51997              None within 50 metres   \n",
            "51998              None within 50 metres   \n",
            "51999              None within 50 metres   \n",
            "\n",
            "           Pedestrian_Crossing-Physical_Facilities  \\\n",
            "0            No physical crossing within 50 meters   \n",
            "1            No physical crossing within 50 meters   \n",
            "2            No physical crossing within 50 meters   \n",
            "3            No physical crossing within 50 meters   \n",
            "4            No physical crossing within 50 meters   \n",
            "...                                            ...   \n",
            "51995  Pedestrian phase at traffic signal junction   \n",
            "51996        No physical crossing within 50 meters   \n",
            "51997        No physical crossing within 50 meters   \n",
            "51998        No physical crossing within 50 meters   \n",
            "51999        No physical crossing within 50 meters   \n",
            "\n",
            "               Weather_Conditions    Road_Surface_Conditions  \\\n",
            "0         Raining with high winds  Flood (Over 3cm of water)   \n",
            "1         Fine without high winds                        Dry   \n",
            "2         Fine without high winds                        Dry   \n",
            "3      Raining without high winds                   Wet/Damp   \n",
            "4         Fine without high winds                        Dry   \n",
            "...                           ...                        ...   \n",
            "51995     Fine without high winds                        Dry   \n",
            "51996     Fine without high winds                        Dry   \n",
            "51997  Raining without high winds                   Wet/Damp   \n",
            "51998  Raining without high winds                   Wet/Damp   \n",
            "51999     Fine without high winds                        Dry   \n",
            "\n",
            "      Did_Police_Officer_Attend_Scene_of_Accident  Year  \n",
            "0                                             Yes  2009  \n",
            "1                                             Yes  2010  \n",
            "2                                             Yes  2005  \n",
            "3                                             Yes  2007  \n",
            "4                                             Yes  2013  \n",
            "...                                           ...   ...  \n",
            "51995                                         Yes  2012  \n",
            "51996                                         Yes  2013  \n",
            "51997                                         Yes  2011  \n",
            "51998                                         Yes  2011  \n",
            "51999                                         Yes  2010  \n",
            "\n",
            "[52000 rows x 23 columns]\n"
          ]
        }
      ]
    },
    {
      "cell_type": "code",
      "source": [
        "print(df.isnull().sum())"
      ],
      "metadata": {
        "id": "LS3jVILR2PFF",
        "outputId": "d0a725ab-9e86-4514-e5bc-745e54289d94",
        "colab": {
          "base_uri": "https://localhost:8080/"
        }
      },
      "id": "LS3jVILR2PFF",
      "execution_count": 9,
      "outputs": [
        {
          "output_type": "stream",
          "name": "stdout",
          "text": [
            "Location_Easting_OSGR                          0\n",
            "Location_Northing_OSGR                         0\n",
            "Longitude                                      0\n",
            "Latitude                                       0\n",
            "Police_Force                                   0\n",
            "Number_of_Vehicles                             0\n",
            "Number_of_Casualties                           0\n",
            "Date                                           0\n",
            "Day_of_Week                                    0\n",
            "Local_Authority_(District)                     0\n",
            "Local_Authority_(Highway)                      0\n",
            "1st_Road_Class                                 0\n",
            "1st_Road_Number                                0\n",
            "Road_Type                                      0\n",
            "Speed_limit                                    0\n",
            "2nd_Road_Class                                 0\n",
            "2nd_Road_Number                                0\n",
            "Pedestrian_Crossing-Human_Control              0\n",
            "Pedestrian_Crossing-Physical_Facilities        0\n",
            "Weather_Conditions                             0\n",
            "Road_Surface_Conditions                        0\n",
            "Did_Police_Officer_Attend_Scene_of_Accident    0\n",
            "Year                                           0\n",
            "dtype: int64\n"
          ]
        }
      ]
    },
    {
      "cell_type": "code",
      "source": [
        "df.duplicated().sum()"
      ],
      "metadata": {
        "id": "uymlbmcC3peQ",
        "outputId": "45339e05-6448-48b6-ba33-f666e167e602",
        "colab": {
          "base_uri": "https://localhost:8080/"
        }
      },
      "id": "uymlbmcC3peQ",
      "execution_count": 10,
      "outputs": [
        {
          "output_type": "execute_result",
          "data": {
            "text/plain": [
              "47"
            ]
          },
          "metadata": {},
          "execution_count": 10
        }
      ]
    },
    {
      "cell_type": "code",
      "source": [
        "df.drop_duplicates(inplace=True)\n",
        "print(df.duplicated().sum())"
      ],
      "metadata": {
        "id": "svDNhJll3yBX",
        "outputId": "2fb32701-5dbb-4753-cab5-cbd6382fa792",
        "colab": {
          "base_uri": "https://localhost:8080/"
        }
      },
      "id": "svDNhJll3yBX",
      "execution_count": 11,
      "outputs": [
        {
          "output_type": "stream",
          "name": "stdout",
          "text": [
            "0\n"
          ]
        }
      ]
    },
    {
      "cell_type": "markdown",
      "id": "b0d002cd",
      "metadata": {
        "id": "b0d002cd"
      },
      "source": [
        "## Data Preprocessing\n",
        "Do what you think you need such as:\n",
        "* Remove the outliers\n",
        "* Impute missing data\n",
        "* Scale the data\n",
        "* Reduce dimentions using PCA\n",
        "* Implement One-Hot Encoding for nominal categorical variables."
      ]
    },
    {
      "cell_type": "code",
      "execution_count": 12,
      "id": "ca5bbcf9",
      "metadata": {
        "id": "ca5bbcf9",
        "outputId": "978e0da9-302e-4e25-d23a-c3da1f65cf8f",
        "colab": {
          "base_uri": "https://localhost:8080/"
        }
      },
      "outputs": [
        {
          "output_type": "stream",
          "name": "stdout",
          "text": [
            "Index(['Location_Easting_OSGR', 'Location_Northing_OSGR', 'Longitude',\n",
            "       'Latitude', 'Police_Force', 'Number_of_Vehicles',\n",
            "       'Number_of_Casualties', 'Date', 'Day_of_Week',\n",
            "       'Local_Authority_(District)', 'Local_Authority_(Highway)',\n",
            "       '1st_Road_Class', '1st_Road_Number', 'Road_Type', 'Speed_limit',\n",
            "       '2nd_Road_Class', '2nd_Road_Number',\n",
            "       'Pedestrian_Crossing-Human_Control',\n",
            "       'Pedestrian_Crossing-Physical_Facilities', 'Weather_Conditions',\n",
            "       'Road_Surface_Conditions',\n",
            "       'Did_Police_Officer_Attend_Scene_of_Accident', 'Year'],\n",
            "      dtype='object')\n"
          ]
        }
      ],
      "source": [
        "print(df.columns)"
      ]
    },
    {
      "cell_type": "code",
      "source": [
        "missing_values = df.isna().sum()\n",
        "print(df)"
      ],
      "metadata": {
        "id": "peKMGxWi5BIQ",
        "outputId": "d8e5cb32-703d-4619-b0a1-133c0adf3f97",
        "colab": {
          "base_uri": "https://localhost:8080/"
        }
      },
      "id": "peKMGxWi5BIQ",
      "execution_count": 13,
      "outputs": [
        {
          "output_type": "stream",
          "name": "stdout",
          "text": [
            "       Location_Easting_OSGR  Location_Northing_OSGR  Longitude   Latitude  \\\n",
            "0                   560530.0                103950.0   0.277298  50.812789   \n",
            "1                   508860.0                187170.0  -0.430574  51.572846   \n",
            "2                   314460.0                169130.0  -3.231459  51.414661   \n",
            "3                   341700.0                408330.0  -2.881800  53.568318   \n",
            "4                   386488.0                350090.0  -2.203020  53.047882   \n",
            "...                      ...                     ...        ...        ...   \n",
            "51995               475125.0                319380.0  -0.888006  52.766777   \n",
            "51996               456682.0                127058.0  -1.192915  51.040030   \n",
            "51997               540510.0                152250.0   0.012032  51.252055   \n",
            "51998               434720.0                334000.0  -1.485264  52.902301   \n",
            "51999               454710.0                185430.0  -1.212104  51.565050   \n",
            "\n",
            "       Police_Force  Number_of_Vehicles  Number_of_Casualties        Date  \\\n",
            "0                47                   1                   1.0  27/11/2009   \n",
            "1                 1                   2                   1.0  10/10/2010   \n",
            "2                62                   2                   1.0  14/09/2005   \n",
            "3                 4                   1                   2.0  18/08/2007   \n",
            "4                21                   2                   2.0  06/08/2013   \n",
            "...             ...                 ...                   ...         ...   \n",
            "51995            33                   2                   1.0  31/08/2012   \n",
            "51996            44                   1                   1.0  08/05/2013   \n",
            "51997            45                   3                   1.0  01/11/2011   \n",
            "51998            30                   2                   2.0  22/07/2011   \n",
            "51999            43                   3                   1.0  24/05/2010   \n",
            "\n",
            "       Day_of_Week  Local_Authority_(District)  ...           Road_Type  \\\n",
            "0                6                         556  ...    Dual carriageway   \n",
            "1                1                          26  ...  Single carriageway   \n",
            "2                4                         746  ...  Single carriageway   \n",
            "3                7                          84  ...      One way street   \n",
            "4                3                         257  ...  Single carriageway   \n",
            "...            ...                         ...  ...                 ...   \n",
            "51995            6                         365  ...  Single carriageway   \n",
            "51996            4                         502  ...  Single carriageway   \n",
            "51997            3                         516  ...  Single carriageway   \n",
            "51998            6                         323  ...  Single carriageway   \n",
            "51999            2                         484  ...  Single carriageway   \n",
            "\n",
            "       Speed_limit  2nd_Road_Class 2nd_Road_Number  \\\n",
            "0               70              -1               0   \n",
            "1               30               6               0   \n",
            "2               30               3            4055   \n",
            "3               30               6               0   \n",
            "4               30              -1               0   \n",
            "...            ...             ...             ...   \n",
            "51995           30               6            6485   \n",
            "51996           60              -1               0   \n",
            "51997           40               6               0   \n",
            "51998           30               5              81   \n",
            "51999           60              -1               0   \n",
            "\n",
            "       Pedestrian_Crossing-Human_Control  \\\n",
            "0                  None within 50 metres   \n",
            "1                  None within 50 metres   \n",
            "2                  None within 50 metres   \n",
            "3                  None within 50 metres   \n",
            "4                  None within 50 metres   \n",
            "...                                  ...   \n",
            "51995              None within 50 metres   \n",
            "51996              None within 50 metres   \n",
            "51997              None within 50 metres   \n",
            "51998              None within 50 metres   \n",
            "51999              None within 50 metres   \n",
            "\n",
            "           Pedestrian_Crossing-Physical_Facilities  \\\n",
            "0            No physical crossing within 50 meters   \n",
            "1            No physical crossing within 50 meters   \n",
            "2            No physical crossing within 50 meters   \n",
            "3            No physical crossing within 50 meters   \n",
            "4            No physical crossing within 50 meters   \n",
            "...                                            ...   \n",
            "51995  Pedestrian phase at traffic signal junction   \n",
            "51996        No physical crossing within 50 meters   \n",
            "51997        No physical crossing within 50 meters   \n",
            "51998        No physical crossing within 50 meters   \n",
            "51999        No physical crossing within 50 meters   \n",
            "\n",
            "               Weather_Conditions    Road_Surface_Conditions  \\\n",
            "0         Raining with high winds  Flood (Over 3cm of water)   \n",
            "1         Fine without high winds                        Dry   \n",
            "2         Fine without high winds                        Dry   \n",
            "3      Raining without high winds                   Wet/Damp   \n",
            "4         Fine without high winds                        Dry   \n",
            "...                           ...                        ...   \n",
            "51995     Fine without high winds                        Dry   \n",
            "51996     Fine without high winds                        Dry   \n",
            "51997  Raining without high winds                   Wet/Damp   \n",
            "51998  Raining without high winds                   Wet/Damp   \n",
            "51999     Fine without high winds                        Dry   \n",
            "\n",
            "      Did_Police_Officer_Attend_Scene_of_Accident  Year  \n",
            "0                                             Yes  2009  \n",
            "1                                             Yes  2010  \n",
            "2                                             Yes  2005  \n",
            "3                                             Yes  2007  \n",
            "4                                             Yes  2013  \n",
            "...                                           ...   ...  \n",
            "51995                                         Yes  2012  \n",
            "51996                                         Yes  2013  \n",
            "51997                                         Yes  2011  \n",
            "51998                                         Yes  2011  \n",
            "51999                                         Yes  2010  \n",
            "\n",
            "[51953 rows x 23 columns]\n"
          ]
        }
      ]
    },
    {
      "cell_type": "code",
      "source": [
        "sns.boxplot(x=df['Number_of_Vehicles'])"
      ],
      "metadata": {
        "id": "gAIenipY7MRa",
        "outputId": "8696c512-7946-4ec8-cff7-b7333805a043",
        "colab": {
          "base_uri": "https://localhost:8080/",
          "height": 467
        }
      },
      "id": "gAIenipY7MRa",
      "execution_count": 16,
      "outputs": [
        {
          "output_type": "execute_result",
          "data": {
            "text/plain": [
              "<Axes: xlabel='Number_of_Vehicles'>"
            ]
          },
          "metadata": {},
          "execution_count": 16
        },
        {
          "output_type": "display_data",
          "data": {
            "text/plain": [
              "<Figure size 640x480 with 1 Axes>"
            ],
            "image/png": "[encoded data removed]"
          },
          "metadata": {}
        }
      ]
    },
    {
      "cell_type": "code",
      "source": [
        "sns.boxplot(x=df['Number_of_Casualties'])"
      ],
      "metadata": {
        "id": "86UZrnU972dr",
        "outputId": "714af56c-5787-4bc2-c084-be58685f3ddd",
        "colab": {
          "base_uri": "https://localhost:8080/",
          "height": 467
        }
      },
      "id": "86UZrnU972dr",
      "execution_count": 17,
      "outputs": [
        {
          "output_type": "execute_result",
          "data": {
            "text/plain": [
              "<Axes: xlabel='Number_of_Casualties'>"
            ]
          },
          "metadata": {},
          "execution_count": 17
        },
        {
          "output_type": "display_data",
          "data": {
            "text/plain": [
              "<Figure size 640x480 with 1 Axes>"
            ],
            "image/png": "[encoded data removed]"
          },
          "metadata": {}
        }
      ]
    },
    {
      "cell_type": "code",
      "source": [
        "sns.boxplot(x=df['Location_Easting_OSGR'])"
      ],
      "metadata": {
        "id": "e-dA_NzP8T1m",
        "outputId": "d0a2e360-ef9b-4272-edfc-0b2ee3dcc59b",
        "colab": {
          "base_uri": "https://localhost:8080/",
          "height": 467
        }
      },
      "id": "e-dA_NzP8T1m",
      "execution_count": 18,
      "outputs": [
        {
          "output_type": "execute_result",
          "data": {
            "text/plain": [
              "<Axes: xlabel='Location_Easting_OSGR'>"
            ]
          },
          "metadata": {},
          "execution_count": 18
        },
        {
          "output_type": "display_data",
          "data": {
            "text/plain": [
              "<Figure size 640x480 with 1 Axes>"
            ],
            "image/png": "[encoded data removed]"
          },
          "metadata": {}
        }
      ]
    },
    {
      "cell_type": "code",
      "source": [
        "\n",
        "sns.boxplot(x=df['Location_Northing_OSGR'])"
      ],
      "metadata": {
        "id": "dlc6to-S8gSW",
        "outputId": "b6c2726b-1319-4f5b-ff5c-5ae1dc1bbeb3",
        "colab": {
          "base_uri": "https://localhost:8080/",
          "height": 467
        }
      },
      "id": "dlc6to-S8gSW",
      "execution_count": 19,
      "outputs": [
        {
          "output_type": "execute_result",
          "data": {
            "text/plain": [
              "<Axes: xlabel='Location_Northing_OSGR'>"
            ]
          },
          "metadata": {},
          "execution_count": 19
        },
        {
          "output_type": "display_data",
          "data": {
            "text/plain": [
              "<Figure size 640x480 with 1 Axes>"
            ],
            "image/png": "[encoded data removed]"
          },
          "metadata": {}
        }
      ]
    },
    {
      "cell_type": "code",
      "source": [
        "    Q1 = df['Location_Northing_OSGR'].quantile(0.25)\n",
        "    Q3 = df['Location_Northing_OSGR'].quantile(0.75)\n",
        "    IQR = Q3 - Q1\n",
        "    df = df[~((df['Location_Northing_OSGR'] < (Q1 - 1.5 * IQR)) | (df['Location_Northing_OSGR'] > (Q3 + 1.5 * IQR)))]"
      ],
      "metadata": {
        "id": "LZgipbzNARNb"
      },
      "id": "LZgipbzNARNb",
      "execution_count": 20,
      "outputs": []
    },
    {
      "cell_type": "code",
      "source": [
        "    Q1 = df['Location_Easting_OSGR'].quantile(0.25)\n",
        "    Q3 = df['Location_Easting_OSGR'].quantile(0.75)\n",
        "    IQR = Q3 - Q1\n",
        "    df = df[~((df['Location_Easting_OSGR'] < (Q1 - 1.5 * IQR)) | (df['Location_Easting_OSGR'] > (Q3 + 1.5 * IQR)))]"
      ],
      "metadata": {
        "id": "5yzF9915BDyx"
      },
      "id": "5yzF9915BDyx",
      "execution_count": 23,
      "outputs": []
    },
    {
      "cell_type": "markdown",
      "id": "d3f6a968",
      "metadata": {
        "id": "d3f6a968"
      },
      "source": [
        "## Feature Selection\n",
        "Select relevant features for clustering. Explain your choice of features.\n"
      ]
    },
    {
      "cell_type": "code",
      "execution_count": null,
      "id": "7a2b7c47",
      "metadata": {
        "id": "7a2b7c47"
      },
      "outputs": [],
      "source": []
    },
    {
      "cell_type": "markdown",
      "id": "d0379d4e",
      "metadata": {
        "id": "d0379d4e"
      },
      "source": [
        "## Data Visualization\n",
        "Visualize the data using appropriate plots to gain insights into the dataset. Using the following:\n",
        "- Scatter plot of accidents based on Longitude and Latitude."
      ]
    },
    {
      "cell_type": "code",
      "execution_count": 34,
      "id": "660247d7",
      "metadata": {
        "id": "660247d7",
        "outputId": "7b86259f-cfff-4efe-acfa-857fef3ddf14",
        "colab": {
          "base_uri": "https://localhost:8080/",
          "height": 564
        }
      },
      "outputs": [
        {
          "output_type": "display_data",
          "data": {
            "text/plain": [
              "<Figure size 1000x600 with 1 Axes>"
            ],
            "image/png": "[encoded data removed]"
          },
          "metadata": {}
        }
      ],
      "source": [
        "plt.figure(figsize=(10, 6))\n",
        "plt.scatter(df['Number_of_Vehicles'], df['Number_of_Casualties'], alpha=0.5)\n",
        "plt.title('Number of Vehicles and Number of Casualties')\n",
        "plt.xlabel('Number of Vehicles')\n",
        "plt.ylabel('Number of Casualties')\n",
        "plt.grid(True)\n",
        "plt.show()"
      ]
    },
    {
      "cell_type": "markdown",
      "id": "4d2f9b1d",
      "metadata": {
        "id": "4d2f9b1d"
      },
      "source": [
        "## Clustering\n",
        "Apply K-Means clustering. Determine the optimal number of clusters and justify your choice.\n",
        "* Find the `n_clusters` parameter using the elbow method.\n",
        "* Train the model."
      ]
    },
    {
      "cell_type": "code",
      "execution_count": 36,
      "id": "2d08303f",
      "metadata": {
        "id": "2d08303f",
        "outputId": "f67700cf-7fb0-40f1-dcfb-c9b681e66919",
        "colab": {
          "base_uri": "https://localhost:8080/",
          "height": 320
        }
      },
      "outputs": [
        {
          "output_type": "execute_result",
          "data": {
            "text/plain": [
              "       Location_Easting_OSGR  Location_Northing_OSGR     Longitude  \\\n",
              "count           51146.000000            51146.000000  51146.000000   \n",
              "mean           442213.773824           292463.111133     -1.397408   \n",
              "std             94129.796754           149582.471675      1.381007   \n",
              "min            160000.000000            19030.000000     -5.711104   \n",
              "25%            378650.000000           177750.000000     -2.320234   \n",
              "50%            442945.000000           262500.000000     -1.364245   \n",
              "75%            524177.500000           394950.000000     -0.206373   \n",
              "max            654960.000000           728175.000000      1.753632   \n",
              "\n",
              "           Latitude  Police_Force  Number_of_Vehicles  Number_of_Casualties  \\\n",
              "count  51146.000000  51146.000000        51146.000000          51146.000000   \n",
              "mean      52.520241     29.489207            1.837348              1.355250   \n",
              "std        1.347420     24.599704            0.727515              0.848042   \n",
              "min       50.026153      1.000000            1.000000              1.000000   \n",
              "25%       51.484747      6.000000            1.000000              1.000000   \n",
              "50%       52.247014     30.000000            2.000000              1.000000   \n",
              "75%       53.448828     45.000000            2.000000              1.000000   \n",
              "max       56.436717     98.000000           34.000000             51.000000   \n",
              "\n",
              "        Day_of_Week  Local_Authority_(District)  1st_Road_Class  \\\n",
              "count  51146.000000                51146.000000    51146.000000   \n",
              "mean       4.130079                  341.086791        4.081473   \n",
              "std        1.925078                  251.918079        1.430308   \n",
              "min        1.000000                    1.000000        1.000000   \n",
              "25%        2.000000                  110.000000        3.000000   \n",
              "50%        4.000000                  320.000000        4.000000   \n",
              "75%        6.000000                  514.000000        6.000000   \n",
              "max        7.000000                  940.000000        6.000000   \n",
              "\n",
              "       1st_Road_Number   Speed_limit  2nd_Road_Class  2nd_Road_Number  \\\n",
              "count     51146.000000  51146.000000    51146.000000     51146.000000   \n",
              "mean        997.180425     39.033649        2.686153       386.336253   \n",
              "std        1797.535354     14.168009        3.202166      1304.243182   \n",
              "min           0.000000     15.000000       -1.000000        -1.000000   \n",
              "25%           0.000000     30.000000       -1.000000         0.000000   \n",
              "50%         130.000000     30.000000        3.000000         0.000000   \n",
              "75%         702.000000     50.000000        6.000000         0.000000   \n",
              "max        9999.000000     70.000000        6.000000      9999.000000   \n",
              "\n",
              "               Year  \n",
              "count  51146.000000  \n",
              "mean    2009.401263  \n",
              "std        3.008418  \n",
              "min     2005.000000  \n",
              "25%     2006.000000  \n",
              "50%     2010.000000  \n",
              "75%     2012.000000  \n",
              "max     2014.000000  "
            ],
            "text/html": [
              "\n",
              "  <div id=\"df-a03f368b-32ef-43a8-9daf-ea3bd7873cc6\" class=\"colab-df-container\">\n",
              "    <div>\n",
              "<style scoped>\n",
              "    .dataframe tbody tr th:only-of-type {\n",
              "        vertical-align: middle;\n",
              "    }\n",
              "\n",
              "    .dataframe tbody tr th {\n",
              "        vertical-align: top;\n",
              "    }\n",
              "\n",
              "    .dataframe thead th {\n",
              "        text-align: right;\n",
              "    }\n",
              "</style>\n",
              "<table border=\"1\" class=\"dataframe\">\n",
              "  <thead>\n",
              "    <tr style=\"text-align: right;\">\n",
              "      <th></th>\n",
              "      <th>Location_Easting_OSGR</th>\n",
              "      <th>Location_Northing_OSGR</th>\n",
              "      <th>Longitude</th>\n",
              "      <th>Latitude</th>\n",
              "      <th>Police_Force</th>\n",
              "      <th>Number_of_Vehicles</th>\n",
              "      <th>Number_of_Casualties</th>\n",
              "      <th>Day_of_Week</th>\n",
              "      <th>Local_Authority_(District)</th>\n",
              "      <th>1st_Road_Class</th>\n",
              "      <th>1st_Road_Number</th>\n",
              "      <th>Speed_limit</th>\n",
              "      <th>2nd_Road_Class</th>\n",
              "      <th>2nd_Road_Number</th>\n",
              "      <th>Year</th>\n",
              "    </tr>\n",
              "  </thead>\n",
              "  <tbody>\n",
              "    <tr>\n",
              "      <th>count</th>\n",
              "      <td>51146.000000</td>\n",
              "      <td>51146.000000</td>\n",
              "      <td>51146.000000</td>\n",
              "      <td>51146.000000</td>\n",
              "      <td>51146.000000</td>\n",
              "      <td>51146.000000</td>\n",
              "      <td>51146.000000</td>\n",
              "      <td>51146.000000</td>\n",
              "      <td>51146.000000</td>\n",
              "      <td>51146.000000</td>\n",
              "      <td>51146.000000</td>\n",
              "      <td>51146.000000</td>\n",
              "      <td>51146.000000</td>\n",
              "      <td>51146.000000</td>\n",
              "      <td>51146.000000</td>\n",
              "    </tr>\n",
              "    <tr>\n",
              "      <th>mean</th>\n",
              "      <td>442213.773824</td>\n",
              "      <td>292463.111133</td>\n",
              "      <td>-1.397408</td>\n",
              "      <td>52.520241</td>\n",
              "      <td>29.489207</td>\n",
              "      <td>1.837348</td>\n",
              "      <td>1.355250</td>\n",
              "      <td>4.130079</td>\n",
              "      <td>341.086791</td>\n",
              "      <td>4.081473</td>\n",
              "      <td>997.180425</td>\n",
              "      <td>39.033649</td>\n",
              "      <td>2.686153</td>\n",
              "      <td>386.336253</td>\n",
              "      <td>2009.401263</td>\n",
              "    </tr>\n",
              "    <tr>\n",
              "      <th>std</th>\n",
              "      <td>94129.796754</td>\n",
              "      <td>149582.471675</td>\n",
              "      <td>1.381007</td>\n",
              "      <td>1.347420</td>\n",
              "      <td>24.599704</td>\n",
              "      <td>0.727515</td>\n",
              "      <td>0.848042</td>\n",
              "      <td>1.925078</td>\n",
              "      <td>251.918079</td>\n",
              "      <td>1.430308</td>\n",
              "      <td>1797.535354</td>\n",
              "      <td>14.168009</td>\n",
              "      <td>3.202166</td>\n",
              "      <td>1304.243182</td>\n",
              "      <td>3.008418</td>\n",
              "    </tr>\n",
              "    <tr>\n",
              "      <th>min</th>\n",
              "      <td>160000.000000</td>\n",
              "      <td>19030.000000</td>\n",
              "      <td>-5.711104</td>\n",
              "      <td>50.026153</td>\n",
              "      <td>1.000000</td>\n",
              "      <td>1.000000</td>\n",
              "      <td>1.000000</td>\n",
              "      <td>1.000000</td>\n",
              "      <td>1.000000</td>\n",
              "      <td>1.000000</td>\n",
              "      <td>0.000000</td>\n",
              "      <td>15.000000</td>\n",
              "      <td>-1.000000</td>\n",
              "      <td>-1.000000</td>\n",
              "      <td>2005.000000</td>\n",
              "    </tr>\n",
              "    <tr>\n",
              "      <th>25%</th>\n",
              "      <td>378650.000000</td>\n",
              "      <td>177750.000000</td>\n",
              "      <td>-2.320234</td>\n",
              "      <td>51.484747</td>\n",
              "      <td>6.000000</td>\n",
              "      <td>1.000000</td>\n",
              "      <td>1.000000</td>\n",
              "      <td>2.000000</td>\n",
              "      <td>110.000000</td>\n",
              "      <td>3.000000</td>\n",
              "      <td>0.000000</td>\n",
              "      <td>30.000000</td>\n",
              "      <td>-1.000000</td>\n",
              "      <td>0.000000</td>\n",
              "      <td>2006.000000</td>\n",
              "    </tr>\n",
              "    <tr>\n",
              "      <th>50%</th>\n",
              "      <td>442945.000000</td>\n",
              "      <td>262500.000000</td>\n",
              "      <td>-1.364245</td>\n",
              "      <td>52.247014</td>\n",
              "      <td>30.000000</td>\n",
              "      <td>2.000000</td>\n",
              "      <td>1.000000</td>\n",
              "      <td>4.000000</td>\n",
              "      <td>320.000000</td>\n",
              "      <td>4.000000</td>\n",
              "      <td>130.000000</td>\n",
              "      <td>30.000000</td>\n",
              "      <td>3.000000</td>\n",
              "      <td>0.000000</td>\n",
              "      <td>2010.000000</td>\n",
              "    </tr>\n",
              "    <tr>\n",
              "      <th>75%</th>\n",
              "      <td>524177.500000</td>\n",
              "      <td>394950.000000</td>\n",
              "      <td>-0.206373</td>\n",
              "      <td>53.448828</td>\n",
              "      <td>45.000000</td>\n",
              "      <td>2.000000</td>\n",
              "      <td>1.000000</td>\n",
              "      <td>6.000000</td>\n",
              "      <td>514.000000</td>\n",
              "      <td>6.000000</td>\n",
              "      <td>702.000000</td>\n",
              "      <td>50.000000</td>\n",
              "      <td>6.000000</td>\n",
              "      <td>0.000000</td>\n",
              "      <td>2012.000000</td>\n",
              "    </tr>\n",
              "    <tr>\n",
              "      <th>max</th>\n",
              "      <td>654960.000000</td>\n",
              "      <td>728175.000000</td>\n",
              "      <td>1.753632</td>\n",
              "      <td>56.436717</td>\n",
              "      <td>98.000000</td>\n",
              "      <td>34.000000</td>\n",
              "      <td>51.000000</td>\n",
              "      <td>7.000000</td>\n",
              "      <td>940.000000</td>\n",
              "      <td>6.000000</td>\n",
              "      <td>9999.000000</td>\n",
              "      <td>70.000000</td>\n",
              "      <td>6.000000</td>\n",
              "      <td>9999.000000</td>\n",
              "      <td>2014.000000</td>\n",
              "    </tr>\n",
              "  </tbody>\n",
              "</table>\n",
              "</div>\n",
              "    <div class=\"colab-df-buttons\">\n",
              "\n",
              "  <div class=\"colab-df-container\">\n",
              "    <button class=\"colab-df-convert\" onclick=\"convertToInteractive('df-a03f368b-32ef-43a8-9daf-ea3bd7873cc6')\"\n",
              "            title=\"Convert this dataframe to an interactive table.\"\n",
              "            style=\"display:none;\">\n",
              "\n",
              "  <svg xmlns=\"http://www.w3.org/2000/svg\" height=\"24px\" viewBox=\"0 -960 960 960\">\n",
              "    <path d=\"M120-120v-720h720v720H120Zm60-500h600v-160H180v160Zm220 220h160v-160H400v160Zm0 220h160v-160H400v160ZM180-400h160v-160H180v160Zm440 0h160v-160H620v160ZM180-180h160v-160H180v160Zm440 0h160v-160H620v160Z\"/>\n",
              "  </svg>\n",
              "    </button>\n",
              "\n",
              "  <style>\n",
              "    .colab-df-container {\n",
              "      display:flex;\n",
              "      gap: 12px;\n",
              "    }\n",
              "\n",
              "    .colab-df-convert {\n",
              "      background-color: #E8F0FE;\n",
              "      border: none;\n",
              "      border-radius: 50%;\n",
              "      cursor: pointer;\n",
              "      display: none;\n",
              "      fill: #1967D2;\n",
              "      height: 32px;\n",
              "      padding: 0 0 0 0;\n",
              "      width: 32px;\n",
              "    }\n",
              "\n",
              "    .colab-df-convert:hover {\n",
              "      background-color: #E2EBFA;\n",
              "      box-shadow: 0px 1px 2px rgba(60, 64, 67, 0.3), 0px 1px 3px 1px rgba(60, 64, 67, 0.15);\n",
              "      fill: #174EA6;\n",
              "    }\n",
              "\n",
              "    .colab-df-buttons div {\n",
              "      margin-bottom: 4px;\n",
              "    }\n",
              "\n",
              "    [theme=dark] .colab-df-convert {\n",
              "      background-color: #3B4455;\n",
              "      fill: #D2E3FC;\n",
              "    }\n",
              "\n",
              "    [theme=dark] .colab-df-convert:hover {\n",
              "      background-color: #434B5C;\n",
              "      box-shadow: 0px 1px 3px 1px rgba(0, 0, 0, 0.15);\n",
              "      filter: drop-shadow(0px 1px 2px rgba(0, 0, 0, 0.3));\n",
              "      fill: #FFFFFF;\n",
              "    }\n",
              "  </style>\n",
              "\n",
              "    <script>\n",
              "      const buttonEl =\n",
              "        document.querySelector('#df-a03f368b-32ef-43a8-9daf-ea3bd7873cc6 button.colab-df-convert');\n",
              "      buttonEl.style.display =\n",
              "        google.colab.kernel.accessAllowed ? 'block' : 'none';\n",
              "\n",
              "      async function convertToInteractive(key) {\n",
              "        const element = document.querySelector('#df-a03f368b-32ef-43a8-9daf-ea3bd7873cc6');\n",
              "        const dataTable =\n",
              "          await google.colab.kernel.invokeFunction('convertToInteractive',\n",
              "                                                    [key], {});\n",
              "        if (!dataTable) return;\n",
              "\n",
              "        const docLinkHtml = 'Like what you see? Visit the ' +\n",
              "          '<a target=\"_blank\" href=https://colab.research.google.com/notebooks/data_table.ipynb>data table notebook</a>'\n",
              "          + ' to learn more about interactive tables.';\n",
              "        element.innerHTML = '';\n",
              "        dataTable['output_type'] = 'display_data';\n",
              "        await google.colab.output.renderOutput(dataTable, element);\n",
              "        const docLink = document.createElement('div');\n",
              "        docLink.innerHTML = docLinkHtml;\n",
              "        element.appendChild(docLink);\n",
              "      }\n",
              "    </script>\n",
              "  </div>\n",
              "\n",
              "\n",
              "<div id=\"df-cf6fd6cb-809c-4521-9f0a-3ff40cf6d812\">\n",
              "  <button class=\"colab-df-quickchart\" onclick=\"quickchart('df-cf6fd6cb-809c-4521-9f0a-3ff40cf6d812')\"\n",
              "            title=\"Suggest charts\"\n",
              "            style=\"display:none;\">\n",
              "\n",
              "<svg xmlns=\"http://www.w3.org/2000/svg\" height=\"24px\"viewBox=\"0 0 24 24\"\n",
              "     width=\"24px\">\n",
              "    <g>\n",
              "        <path d=\"M19 3H5c-1.1 0-2 .9-2 2v14c0 1.1.9 2 2 2h14c1.1 0 2-.9 2-2V5c0-1.1-.9-2-2-2zM9 17H7v-7h2v7zm4 0h-2V7h2v10zm4 0h-2v-4h2v4z\"/>\n",
              "    </g>\n",
              "</svg>\n",
              "  </button>\n",
              "\n",
              "<style>\n",
              "  .colab-df-quickchart {\n",
              "      --bg-color: #E8F0FE;\n",
              "      --fill-color: #1967D2;\n",
              "      --hover-bg-color: #E2EBFA;\n",
              "      --hover-fill-color: #174EA6;\n",
              "      --disabled-fill-color: #AAA;\n",
              "      --disabled-bg-color: #DDD;\n",
              "  }\n",
              "\n",
              "  [theme=dark] .colab-df-quickchart {\n",
              "      --bg-color: #3B4455;\n",
              "      --fill-color: #D2E3FC;\n",
              "      --hover-bg-color: #434B5C;\n",
              "      --hover-fill-color: #FFFFFF;\n",
              "      --disabled-bg-color: #3B4455;\n",
              "      --disabled-fill-color: #666;\n",
              "  }\n",
              "\n",
              "  .colab-df-quickchart {\n",
              "    background-color: var(--bg-color);\n",
              "    border: none;\n",
              "    border-radius: 50%;\n",
              "    cursor: pointer;\n",
              "    display: none;\n",
              "    fill: var(--fill-color);\n",
              "    height: 32px;\n",
              "    padding: 0;\n",
              "    width: 32px;\n",
              "  }\n",
              "\n",
              "  .colab-df-quickchart:hover {\n",
              "    background-color: var(--hover-bg-color);\n",
              "    box-shadow: 0 1px 2px rgba(60, 64, 67, 0.3), 0 1px 3px 1px rgba(60, 64, 67, 0.15);\n",
              "    fill: var(--button-hover-fill-color);\n",
              "  }\n",
              "\n",
              "  .colab-df-quickchart-complete:disabled,\n",
              "  .colab-df-quickchart-complete:disabled:hover {\n",
              "    background-color: var(--disabled-bg-color);\n",
              "    fill: var(--disabled-fill-color);\n",
              "    box-shadow: none;\n",
              "  }\n",
              "\n",
              "  .colab-df-spinner {\n",
              "    border: 2px solid var(--fill-color);\n",
              "    border-color: transparent;\n",
              "    border-bottom-color: var(--fill-color);\n",
              "    animation:\n",
              "      spin 1s steps(1) infinite;\n",
              "  }\n",
              "\n",
              "  @keyframes spin {\n",
              "    0% {\n",
              "      border-color: transparent;\n",
              "      border-bottom-color: var(--fill-color);\n",
              "      border-left-color: var(--fill-color);\n",
              "    }\n",
              "    20% {\n",
              "      border-color: transparent;\n",
              "      border-left-color: var(--fill-color);\n",
              "      border-top-color: var(--fill-color);\n",
              "    }\n",
              "    30% {\n",
              "      border-color: transparent;\n",
              "      border-left-color: var(--fill-color);\n",
              "      border-top-color: var(--fill-color);\n",
              "      border-right-color: var(--fill-color);\n",
              "    }\n",
              "    40% {\n",
              "      border-color: transparent;\n",
              "      border-right-color: var(--fill-color);\n",
              "      border-top-color: var(--fill-color);\n",
              "    }\n",
              "    60% {\n",
              "      border-color: transparent;\n",
              "      border-right-color: var(--fill-color);\n",
              "    }\n",
              "    80% {\n",
              "      border-color: transparent;\n",
              "      border-right-color: var(--fill-color);\n",
              "      border-bottom-color: var(--fill-color);\n",
              "    }\n",
              "    90% {\n",
              "      border-color: transparent;\n",
              "      border-bottom-color: var(--fill-color);\n",
              "    }\n",
              "  }\n",
              "</style>\n",
              "\n",
              "  <script>\n",
              "    async function quickchart(key) {\n",
              "      const quickchartButtonEl =\n",
              "        document.querySelector('#' + key + ' button');\n",
              "      quickchartButtonEl.disabled = true;  // To prevent multiple clicks.\n",
              "      quickchartButtonEl.classList.add('colab-df-spinner');\n",
              "      try {\n",
              "        const charts = await google.colab.kernel.invokeFunction(\n",
              "            'suggestCharts', [key], {});\n",
              "      } catch (error) {\n",
              "        console.error('Error during call to suggestCharts:', error);\n",
              "      }\n",
              "      quickchartButtonEl.classList.remove('colab-df-spinner');\n",
              "      quickchartButtonEl.classList.add('colab-df-quickchart-complete');\n",
              "    }\n",
              "    (() => {\n",
              "      let quickchartButtonEl =\n",
              "        document.querySelector('#df-cf6fd6cb-809c-4521-9f0a-3ff40cf6d812 button');\n",
              "      quickchartButtonEl.style.display =\n",
              "        google.colab.kernel.accessAllowed ? 'block' : 'none';\n",
              "    })();\n",
              "  </script>\n",
              "</div>\n",
              "\n",
              "    </div>\n",
              "  </div>\n"
            ],
            "application/vnd.google.colaboratory.intrinsic+json": {
              "type": "dataframe",
              "summary": "{\n  \"name\": \"df\",\n  \"rows\": 8,\n  \"fields\": [\n    {\n      \"column\": \"Location_Easting_OSGR\",\n      \"properties\": {\n        \"dtype\": \"number\",\n        \"std\": 217731.66109169487,\n        \"min\": 51146.0,\n        \"max\": 654960.0,\n        \"num_unique_values\": 8,\n        \"samples\": [\n          442213.773823955,\n          442945.0,\n          51146.0\n        ],\n        \"semantic_type\": \"\",\n        \"description\": \"\"\n      }\n    },\n    {\n      \"column\": \"Location_Northing_OSGR\",\n      \"properties\": {\n        \"dtype\": \"number\",\n        \"std\": 226495.2349629298,\n        \"min\": 19030.0,\n        \"max\": 728175.0,\n        \"num_unique_values\": 8,\n        \"samples\": [\n          292463.1111328354,\n          262500.0,\n          51146.0\n        ],\n        \"semantic_type\": \"\",\n        \"description\": \"\"\n      }\n    },\n    {\n      \"column\": \"Longitude\",\n      \"properties\": {\n        \"dtype\": \"number\",\n        \"std\": 18083.23909400179,\n        \"min\": -5.711104,\n        \"max\": 51146.0,\n        \"num_unique_values\": 8,\n        \"samples\": [\n          -1.3974083849176866,\n          -1.364245,\n          51146.0\n        ],\n        \"semantic_type\": \"\",\n        \"description\": \"\"\n      }\n    },\n    {\n      \"column\": \"Latitude\",\n      \"properties\": {\n        \"dtype\": \"number\",\n        \"std\": 18066.814008839192,\n        \"min\": 1.3474201240467074,\n        \"max\": 51146.0,\n        \"num_unique_values\": 8,\n        \"samples\": [\n          52.52024120582255,\n          52.247014,\n          51146.0\n        ],\n        \"semantic_type\": \"\",\n        \"description\": \"\"\n      }\n    },\n    {\n      \"column\": \"Police_Force\",\n      \"properties\": {\n        \"dtype\": \"number\",\n        \"std\": 18071.042995772168,\n        \"min\": 1.0,\n        \"max\": 51146.0,\n        \"num_unique_values\": 8,\n        \"samples\": [\n          29.489207367145035,\n          30.0,\n          51146.0\n        ],\n        \"semantic_type\": \"\",\n        \"description\": \"\"\n      }\n    },\n    {\n      \"column\": \"Number_of_Vehicles\",\n      \"properties\": {\n        \"dtype\": \"number\",\n        \"std\": 18080.695464336965,\n        \"min\": 0.72751460658703,\n        \"max\": 51146.0,\n        \"num_unique_values\": 6,\n        \"samples\": [\n          51146.0,\n          1.8373479842020881,\n          34.0\n        ],\n        \"semantic_type\": \"\",\n        \"description\": \"\"\n      }\n    },\n    {\n      \"column\": \"Number_of_Casualties\",\n      \"properties\": {\n        \"dtype\": \"number\",\n        \"std\": 18079.960967605064,\n        \"min\": 0.8480422138946863,\n        \"max\": 51146.0,\n        \"num_unique_values\": 5,\n        \"samples\": [\n          1.3552501599081697,\n          51.0,\n          0.8480422138946863\n        ],\n        \"semantic_type\": \"\",\n        \"description\": \"\"\n      }\n    },\n    {\n      \"column\": \"Day_of_Week\",\n      \"properties\": {\n        \"dtype\": \"number\",\n        \"std\": 18081.525848786365,\n        \"min\": 1.0,\n        \"max\": 51146.0,\n        \"num_unique_values\": 8,\n        \"samples\": [\n          4.130078598521878,\n          4.0,\n          51146.0\n        ],\n        \"semantic_type\": \"\",\n        \"description\": \"\"\n      }\n    },\n    {\n      \"column\": \"Local_Authority_(District)\",\n      \"properties\": {\n        \"dtype\": \"number\",\n        \"std\": 17959.930315777434,\n        \"min\": 1.0,\n        \"max\": 51146.0,\n        \"num_unique_values\": 8,\n        \"samples\": [\n          341.0867907558753,\n          320.0,\n          51146.0\n        ],\n        \"semantic_type\": \"\",\n        \"description\": \"\"\n      }\n    },\n    {\n      \"column\": \"1st_Road_Class\",\n      \"properties\": {\n        \"dtype\": \"number\",\n        \"std\": 18081.553269488628,\n        \"min\": 1.0,\n        \"max\": 51146.0,\n        \"num_unique_values\": 7,\n        \"samples\": [\n          51146.0,\n          4.081472646932311,\n          4.0\n        ],\n        \"semantic_type\": \"\",\n        \"description\": \"\"\n      }\n    },\n    {\n      \"column\": \"1st_Road_Number\",\n      \"properties\": {\n        \"dtype\": \"number\",\n        \"std\": 17712.814681261785,\n        \"min\": 0.0,\n        \"max\": 51146.0,\n        \"num_unique_values\": 7,\n        \"samples\": [\n          51146.0,\n          997.1804246666406,\n          702.0\n        ],\n        \"semantic_type\": \"\",\n        \"description\": \"\"\n      }\n    },\n    {\n      \"column\": \"Speed_limit\",\n      \"properties\": {\n        \"dtype\": \"number\",\n        \"std\": 18070.314922741127,\n        \"min\": 14.168009311044495,\n        \"max\": 51146.0,\n        \"num_unique_values\": 7,\n        \"samples\": [\n          51146.0,\n          39.033648770187305,\n          50.0\n        ],\n        \"semantic_type\": \"\",\n        \"description\": \"\"\n      }\n    },\n    {\n      \"column\": \"2nd_Road_Class\",\n      \"properties\": {\n        \"dtype\": \"number\",\n        \"std\": 18081.887906622764,\n        \"min\": -1.0,\n        \"max\": 51146.0,\n        \"num_unique_values\": 6,\n        \"samples\": [\n          51146.0,\n          2.686153364877019,\n          6.0\n        ],\n        \"semantic_type\": \"\",\n        \"description\": \"\"\n      }\n    },\n    {\n      \"column\": \"2nd_Road_Number\",\n      \"properties\": {\n        \"dtype\": \"number\",\n        \"std\": 17825.42557046866,\n        \"min\": -1.0,\n        \"max\": 51146.0,\n        \"num_unique_values\": 6,\n        \"samples\": [\n          51146.0,\n          386.3362530794197,\n          9999.0\n        ],\n        \"semantic_type\": \"\",\n        \"description\": \"\"\n      }\n    },\n    {\n      \"column\": \"Year\",\n      \"properties\": {\n        \"dtype\": \"number\",\n        \"std\": 17487.849017722852,\n        \"min\": 3.008418073027705,\n        \"max\": 51146.0,\n        \"num_unique_values\": 8,\n        \"samples\": [\n          2009.401263050874,\n          2010.0,\n          51146.0\n        ],\n        \"semantic_type\": \"\",\n        \"description\": \"\"\n      }\n    }\n  ]\n}"
            }
          },
          "metadata": {},
          "execution_count": 36
        }
      ],
      "source": [
        "df.describe()"
      ]
    },
    {
      "cell_type": "code",
      "source": [
        "\n",
        "X = df[['Number_of_Vehicles']]\n",
        "y = df['Location_Easting_OSGR']\n",
        "\n",
        "X_train, X_test, y_train, y_test = train_test_split(X, y, test_size=0.3, random_state=42)"
      ],
      "metadata": {
        "id": "KkRm0-IaJcTb"
      },
      "id": "KkRm0-IaJcTb",
      "execution_count": 42,
      "outputs": []
    },
    {
      "cell_type": "markdown",
      "id": "70fb3a2a",
      "metadata": {
        "id": "70fb3a2a"
      },
      "source": [
        "## Evaluation\n",
        "Evaluate the clustering result using appropriate metrics.\n"
      ]
    },
    {
      "cell_type": "code",
      "execution_count": 47,
      "id": "70c261ca",
      "metadata": {
        "id": "70c261ca"
      },
      "outputs": [],
      "source": [
        "from sklearn.cluster import KMeans\n",
        "kmeans = KMeans(n_clusters=3, random_state=42)\n"
      ]
    },
    {
      "cell_type": "markdown",
      "id": "061e005c",
      "metadata": {
        "id": "061e005c"
      },
      "source": [
        "## Plot the data points with their predicted cluster center"
      ]
    },
    {
      "cell_type": "markdown",
      "id": "5cdf3716",
      "metadata": {
        "id": "5cdf3716"
      },
      "source": [
        "## Exam Questions\n",
        "* **Justify Your Feature Selection:**\n",
        "   - Which features did you choose for clustering and why?\n",
        "* **Number of Clusters Choices:**\n",
        "   - How did you determine the optimal number?\n",
        "* **Evaluation:**\n",
        "   - Which metrics did you use to evaluate the clustering results, and why?\n",
        "   - How do these metrics help in understanding the effectiveness of your clustering approach?\n",
        "* **Improvements and Recommendations:**\n",
        "   - Suggest any improvements or future work that could be done with this dataset. What other methods or algorithms would you consider applying?"
      ]
    }
  ],
  "metadata": {
    "language_info": {
      "name": "python"
    },
    "colab": {
      "provenance": [],
      "include_colab_link": true
    },
    "kernelspec": {
      "name": "python3",
      "display_name": "Python 3"
    }
  },
  "nbformat": 4,
  "nbformat_minor": 5
}