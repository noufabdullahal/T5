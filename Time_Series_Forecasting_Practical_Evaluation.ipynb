{
  "cells": [
    {
      "cell_type": "markdown",
      "metadata": {
        "id": "view-in-github",
        "colab_type": "text"
      },
      "source": [
        "<a href=\"https://colab.research.google.com/github/noufabdullahal/T5/blob/main/Time_Series_Forecasting_Practical_Evaluation.ipynb\" target=\"_parent\"><img src=\"https://colab.research.google.com/assets/colab-badge.svg\" alt=\"Open In Colab\"/></a>"
      ]
    },
    {
      "cell_type": "markdown",
      "id": "3e2b26be",
      "metadata": {
        "id": "3e2b26be"
      },
      "source": [
        "# Time Series Forecasting Exam\n",
        "\n",
        "In this exam, you will work on a time series forecasting task. The goal is to go through the entire workflow from loading the data to evaluating the model and making predictions. Follow each step carefully. The dataset is stored in you can access it [here](https://www.kaggle.com/datasets/khaledzsa/traffic-dataset), the target is to predict `traffic_volume` column. There is also command to download the dataset below.\n",
        "\n",
        "## Dataset: Traffic Dataset\n",
        "\n",
        "### Dataset Overview:\n",
        "\n",
        "- **Name**: Traffic Dataset\n",
        "- **Description**: This dataset contains hourly data on the traffic volume for westbound I-94, a major interstate highway in the US that connects Minneapolis and St Paul, Minnesota. The data was collected by the Minnesota Department of Transportation (MnDOT) from 2012 to 2018 at a station roughly midway between the two cities.\n",
        "- **Time Period**: Starting from 18-11-2016\n",
        "- **Frequency**: Hourly observations\n",
        "\n",
        "### Features:\n",
        "\n",
        "1. **temp:** a numeric variable that shows the average temperature in kelvin.\n",
        "2. **rain_1h:** a numeric variable that shows the amount of rain in mm that occurred in the hour.\n",
        "3. **snow_1h:** a numeric variable that shows the amount of snow in mm that occurred in the hour.\n",
        "4. **clouds_all:** a numeric variable that shows the percentage of cloud cover.\n",
        "5. **weather_main:** a categorical variable that gives a short textual description of the current weather (such as Clear, Clouds, Rain, etc.).\n",
        "6. **weather_description:** a categorical variable that gives a longer textual description of the current weather (such as light rain, overcast clouds, etc.).\n",
        "7. **date_time:** a datetime variable that shows the hour of the data collected in local CST time.\n",
        "8. **traffic_volume:** a numeric variable that shows the hourly I-94 reported westbound traffic volume.\n",
        "\n",
        "#### Feel free to add or rearrange steps as you see fit to optimize your workflow. One additional note: the model's performance doesn't need to be 100% accurate. Instead, focus on achieving the best possible results while balancing performance and generalization."
      ]
    },
    {
      "cell_type": "markdown",
      "id": "9d58f5eb",
      "metadata": {
        "id": "9d58f5eb"
      },
      "source": [
        "## Load the Data\n",
        "\n",
        "Load the time series dataset into a pandas DataFrame.\n",
        "\n",
        "**Instructions:**\n",
        "- Use `pandas` to load your dataset.\n",
        "- Display the first few rows to understand its structure.\n",
        "- Make sure the datetime column is correctly parsed."
      ]
    },
    {
      "cell_type": "code",
      "source": [
        "from sklearn.preprocessing import MinMaxScaler\n",
        "import matplotlib.pyplot as plt\n",
        "import numpy as np\n"
      ],
      "metadata": {
        "id": "pqq0LQK1C9LY"
      },
      "id": "pqq0LQK1C9LY",
      "execution_count": 55,
      "outputs": []
    },
    {
      "cell_type": "code",
      "source": [
        "import pandas as pd\n",
        "df = pd.read_csv(\"/content/Traffic Data.csv\")\n",
        "print(df.head())\n"
      ],
      "metadata": {
        "id": "JBOOXH7W7wCS",
        "outputId": "f60655bd-fd90-4efc-d21a-1b9c925063b4",
        "colab": {
          "base_uri": "https://localhost:8080/"
        }
      },
      "id": "JBOOXH7W7wCS",
      "execution_count": 3,
      "outputs": [
        {
          "output_type": "stream",
          "name": "stdout",
          "text": [
            "   traffic_volume    temp  rain_1h  snow_1h  clouds_all weather_main  \\\n",
            "0          1209.0  291.15      0.0      0.0          90         Mist   \n",
            "1          1248.0  286.01      0.0      0.0           1        Clear   \n",
            "2          4602.0  293.69      0.0      0.0          75       Clouds   \n",
            "3          2838.0  262.35      0.0      0.0           1        Clear   \n",
            "4          5794.0  267.08      0.0      0.0           5        Clear   \n",
            "\n",
            "  weather_description            date_time  \n",
            "0                mist  2017-08-27 01:00:00  \n",
            "1        sky is clear  2018-09-06 23:00:00  \n",
            "2       broken clouds  2017-08-25 18:00:00  \n",
            "3        sky is clear  2017-11-09 22:00:00  \n",
            "4        sky is clear  2017-11-09 15:00:00  \n"
          ]
        }
      ]
    },
    {
      "cell_type": "code",
      "source": [
        "# Here is a helping code that will download and unzip the dataset for you.\n",
        "# Once you download the dataset you may comment the code!\n",
        "!kaggle datasets download -d khaledzsa/traffic-dataset\n",
        "!unzip traffic-dataset.zip"
      ],
      "metadata": {
        "id": "tJG6da7n3tYZ",
        "outputId": "54542799-20c0-40ac-943f-ad695b16e401",
        "colab": {
          "base_uri": "https://localhost:8080/"
        }
      },
      "id": "tJG6da7n3tYZ",
      "execution_count": 1,
      "outputs": [
        {
          "output_type": "stream",
          "name": "stdout",
          "text": [
            "Dataset URL: https://www.kaggle.com/datasets/khaledzsa/traffic-dataset\n",
            "License(s): unknown\n",
            "Downloading traffic-dataset.zip to /content\n",
            "  0% 0.00/235k [00:00<?, ?B/s]\n",
            "100% 235k/235k [00:00<00:00, 27.1MB/s]\n",
            "Archive:  traffic-dataset.zip\n",
            "  inflating: Traffic Data.csv        \n"
          ]
        }
      ]
    },
    {
      "cell_type": "markdown",
      "id": "c3122466",
      "metadata": {
        "id": "c3122466"
      },
      "source": [
        "## Exploratory Data Analysis (EDA)\n",
        "\n",
        "Perform exploratory data analysis on the dataset.\n",
        "\n",
        "**Instructions:**\n",
        "- Plot the time series data.\n",
        "- Analyze trends, seasonality, and potential outliers.\n",
        "- Plot boxplots or scatter plots to identify any outliers or anomalies in the data.\n",
        "- Seasonal Decomposition: Use `seasonal_decompose` from the `statsmodels` library to break down the time series data into trend, seasonality, and residual components. Analyze each component to gain insights into the long-term movement (trend), regular patterns (seasonality), and remaining fluctuations (residuals).\n",
        "\n",
        "Do more if needed!"
      ]
    },
    {
      "cell_type": "code",
      "execution_count": 4,
      "id": "05f6fffa",
      "metadata": {
        "id": "05f6fffa",
        "outputId": "188c2d48-73d1-46f6-91c2-c4cdb54417a7",
        "colab": {
          "base_uri": "https://localhost:8080/",
          "height": 335
        }
      },
      "outputs": [
        {
          "output_type": "execute_result",
          "data": {
            "text/plain": [
              "traffic_volume         20\n",
              "temp                    0\n",
              "rain_1h                 0\n",
              "snow_1h                 0\n",
              "clouds_all              0\n",
              "weather_main            0\n",
              "weather_description     0\n",
              "date_time               0\n",
              "dtype: int64"
            ],
            "text/html": [
              "<div>\n",
              "<style scoped>\n",
              "    .dataframe tbody tr th:only-of-type {\n",
              "        vertical-align: middle;\n",
              "    }\n",
              "\n",
              "    .dataframe tbody tr th {\n",
              "        vertical-align: top;\n",
              "    }\n",
              "\n",
              "    .dataframe thead th {\n",
              "        text-align: right;\n",
              "    }\n",
              "</style>\n",
              "<table border=\"1\" class=\"dataframe\">\n",
              "  <thead>\n",
              "    <tr style=\"text-align: right;\">\n",
              "      <th></th>\n",
              "      <th>0</th>\n",
              "    </tr>\n",
              "  </thead>\n",
              "  <tbody>\n",
              "    <tr>\n",
              "      <th>traffic_volume</th>\n",
              "      <td>20</td>\n",
              "    </tr>\n",
              "    <tr>\n",
              "      <th>temp</th>\n",
              "      <td>0</td>\n",
              "    </tr>\n",
              "    <tr>\n",
              "      <th>rain_1h</th>\n",
              "      <td>0</td>\n",
              "    </tr>\n",
              "    <tr>\n",
              "      <th>snow_1h</th>\n",
              "      <td>0</td>\n",
              "    </tr>\n",
              "    <tr>\n",
              "      <th>clouds_all</th>\n",
              "      <td>0</td>\n",
              "    </tr>\n",
              "    <tr>\n",
              "      <th>weather_main</th>\n",
              "      <td>0</td>\n",
              "    </tr>\n",
              "    <tr>\n",
              "      <th>weather_description</th>\n",
              "      <td>0</td>\n",
              "    </tr>\n",
              "    <tr>\n",
              "      <th>date_time</th>\n",
              "      <td>0</td>\n",
              "    </tr>\n",
              "  </tbody>\n",
              "</table>\n",
              "</div><br><label><b>dtype:</b> int64</label>"
            ]
          },
          "metadata": {},
          "execution_count": 4
        }
      ],
      "source": [
        "df.isna().sum()"
      ]
    },
    {
      "cell_type": "code",
      "source": [
        "df.info()"
      ],
      "metadata": {
        "id": "3i2RVUhU9zyV",
        "outputId": "0270bfb8-8945-4020-87d0-613234afee59",
        "colab": {
          "base_uri": "https://localhost:8080/"
        }
      },
      "id": "3i2RVUhU9zyV",
      "execution_count": 10,
      "outputs": [
        {
          "output_type": "stream",
          "name": "stdout",
          "text": [
            "<class 'pandas.core.frame.DataFrame'>\n",
            "RangeIndex: 20000 entries, 0 to 19999\n",
            "Data columns (total 8 columns):\n",
            " #   Column               Non-Null Count  Dtype  \n",
            "---  ------               --------------  -----  \n",
            " 0   traffic_volume       19978 non-null  float64\n",
            " 1   temp                 20000 non-null  float64\n",
            " 2   rain_1h              20000 non-null  float64\n",
            " 3   snow_1h              20000 non-null  float64\n",
            " 4   clouds_all           20000 non-null  int64  \n",
            " 5   weather_main         20000 non-null  object \n",
            " 6   weather_description  20000 non-null  object \n",
            " 7   date_time            20000 non-null  object \n",
            "dtypes: float64(4), int64(1), object(3)\n",
            "memory usage: 1.2+ MB\n"
          ]
        }
      ]
    },
    {
      "cell_type": "code",
      "source": [
        "df = df.dropna()\n"
      ],
      "metadata": {
        "id": "fZ-nS4Zn-B0k"
      },
      "id": "fZ-nS4Zn-B0k",
      "execution_count": 11,
      "outputs": []
    },
    {
      "cell_type": "markdown",
      "id": "5827fb18",
      "metadata": {
        "id": "5827fb18"
      },
      "source": [
        "## Data Preprocessing\n",
        "\n",
        "Clean and preprocess the data.\n",
        "\n",
        "**Instructions:**\n",
        "- Handle any missing values in the dataset.\n",
        "- If necessary, resample the data to ensure consistent time intervals.\n",
        "- Create any additional features needed, such as lags or moving averages.\n",
        "- Make sure that the dates are sorted correctly.\n",
        "\n",
        "Do more if needed!"
      ]
    },
    {
      "cell_type": "code",
      "execution_count": null,
      "id": "c27410bc",
      "metadata": {
        "id": "c27410bc"
      },
      "outputs": [],
      "source": []
    },
    {
      "cell_type": "markdown",
      "id": "10def3f0",
      "metadata": {
        "id": "10def3f0"
      },
      "source": [
        "## Feature Engineering\n",
        "\n",
        "### Instructions:\n",
        "  \n",
        "- **Shift Method**: Use the `shift` method to create a new column `prev_traffic_volume`, which represents the previous day's traffic volume.\n",
        "\n",
        "- **Difference between traffic_volume**: Calculate the difference between the values in `traffic_volume` column to highlight short-term volume.\n",
        "\n",
        "- **Date Features**: Extract meaningful time-based features from the `date_time` column to enhance the model's ability to detect temporal patterns. These features include:\n",
        "  - **Day of the week**: To capture weekly seasonality.\n",
        "  - **Month**: To capture monthly trends.\n",
        "  - **Day of the year**: Useful for modeling yearly seasonality.\n"
      ]
    },
    {
      "cell_type": "code",
      "source": [
        "print(df.columns)\n"
      ],
      "metadata": {
        "id": "RECXgEte9Wsd",
        "outputId": "a486928c-d72d-4ffe-96c6-04ede6231c48",
        "colab": {
          "base_uri": "https://localhost:8080/"
        }
      },
      "id": "RECXgEte9Wsd",
      "execution_count": 12,
      "outputs": [
        {
          "output_type": "stream",
          "name": "stdout",
          "text": [
            "Index(['traffic_volume', 'temp', 'rain_1h', 'snow_1h', 'clouds_all',\n",
            "       'weather_main', 'weather_description', 'date_time'],\n",
            "      dtype='object')\n"
          ]
        }
      ]
    },
    {
      "cell_type": "code",
      "execution_count": 89,
      "id": "d62cd837",
      "metadata": {
        "id": "d62cd837"
      },
      "outputs": [],
      "source": [
        "df['traffic_volume'] = df['traffic_volume'].shift(1)\n"
      ]
    },
    {
      "cell_type": "code",
      "source": [
        "df.reset_index().set_index('date_time')"
      ],
      "metadata": {
        "id": "d8HvwIkT9mEb",
        "outputId": "91cd262d-fa7b-4f8b-80ba-a9afad66fdf2",
        "colab": {
          "base_uri": "https://localhost:8080/",
          "height": 628
        }
      },
      "id": "d8HvwIkT9mEb",
      "execution_count": 15,
      "outputs": [
        {
          "output_type": "execute_result",
          "data": {
            "text/plain": [
              "                     index  traffic_volume    temp  rain_1h  snow_1h  \\\n",
              "date_time                                                              \n",
              "2017-08-25 18:00:00      2             NaN  293.69      0.0      0.0   \n",
              "2017-11-09 22:00:00      3          1209.0  262.35      0.0      0.0   \n",
              "2017-11-09 15:00:00      4          1248.0  267.08      0.0      0.0   \n",
              "2018-06-09 12:00:00      5          4602.0  293.66      0.0      0.0   \n",
              "2018-07-26 19:00:00      6          2838.0  292.75      0.0      0.0   \n",
              "...                    ...             ...     ...      ...      ...   \n",
              "2018-06-06 21:00:00  19995          1833.0  296.42      0.0      0.0   \n",
              "2017-10-25 15:00:00  19996           288.0  285.58      0.0      0.0   \n",
              "2018-03-28 23:00:00  19997          6601.0  275.30      0.0      0.0   \n",
              "2018-02-12 15:00:00  19998          2723.0  260.94      0.0      0.0   \n",
              "2018-05-31 18:00:00  19999          5895.0  301.65      0.0      0.0   \n",
              "\n",
              "                     clouds_all weather_main    weather_description  \n",
              "date_time                                                            \n",
              "2017-08-25 18:00:00          75       Clouds          broken clouds  \n",
              "2017-11-09 22:00:00           1        Clear           sky is clear  \n",
              "2017-11-09 15:00:00           5        Clear           sky is clear  \n",
              "2018-06-09 12:00:00          75         Rain          moderate rain  \n",
              "2018-07-26 19:00:00          40         Rain  proximity shower rain  \n",
              "...                         ...          ...                    ...  \n",
              "2018-06-06 21:00:00          40       Clouds       scattered clouds  \n",
              "2017-10-25 15:00:00          40       Clouds       scattered clouds  \n",
              "2018-03-28 23:00:00           1        Clear           sky is clear  \n",
              "2018-02-12 15:00:00          75       Clouds          broken clouds  \n",
              "2018-05-31 18:00:00          40       Clouds       scattered clouds  \n",
              "\n",
              "[19978 rows x 8 columns]"
            ],
            "text/html": [
              "\n",
              "  <div id=\"df-2414f351-21e4-419f-b89f-6615f4bb4961\" class=\"colab-df-container\">\n",
              "    <div>\n",
              "<style scoped>\n",
              "    .dataframe tbody tr th:only-of-type {\n",
              "        vertical-align: middle;\n",
              "    }\n",
              "\n",
              "    .dataframe tbody tr th {\n",
              "        vertical-align: top;\n",
              "    }\n",
              "\n",
              "    .dataframe thead th {\n",
              "        text-align: right;\n",
              "    }\n",
              "</style>\n",
              "<table border=\"1\" class=\"dataframe\">\n",
              "  <thead>\n",
              "    <tr style=\"text-align: right;\">\n",
              "      <th></th>\n",
              "      <th>index</th>\n",
              "      <th>traffic_volume</th>\n",
              "      <th>temp</th>\n",
              "      <th>rain_1h</th>\n",
              "      <th>snow_1h</th>\n",
              "      <th>clouds_all</th>\n",
              "      <th>weather_main</th>\n",
              "      <th>weather_description</th>\n",
              "    </tr>\n",
              "    <tr>\n",
              "      <th>date_time</th>\n",
              "      <th></th>\n",
              "      <th></th>\n",
              "      <th></th>\n",
              "      <th></th>\n",
              "      <th></th>\n",
              "      <th></th>\n",
              "      <th></th>\n",
              "      <th></th>\n",
              "    </tr>\n",
              "  </thead>\n",
              "  <tbody>\n",
              "    <tr>\n",
              "      <th>2017-08-25 18:00:00</th>\n",
              "      <td>2</td>\n",
              "      <td>NaN</td>\n",
              "      <td>293.69</td>\n",
              "      <td>0.0</td>\n",
              "      <td>0.0</td>\n",
              "      <td>75</td>\n",
              "      <td>Clouds</td>\n",
              "      <td>broken clouds</td>\n",
              "    </tr>\n",
              "    <tr>\n",
              "      <th>2017-11-09 22:00:00</th>\n",
              "      <td>3</td>\n",
              "      <td>1209.0</td>\n",
              "      <td>262.35</td>\n",
              "      <td>0.0</td>\n",
              "      <td>0.0</td>\n",
              "      <td>1</td>\n",
              "      <td>Clear</td>\n",
              "      <td>sky is clear</td>\n",
              "    </tr>\n",
              "    <tr>\n",
              "      <th>2017-11-09 15:00:00</th>\n",
              "      <td>4</td>\n",
              "      <td>1248.0</td>\n",
              "      <td>267.08</td>\n",
              "      <td>0.0</td>\n",
              "      <td>0.0</td>\n",
              "      <td>5</td>\n",
              "      <td>Clear</td>\n",
              "      <td>sky is clear</td>\n",
              "    </tr>\n",
              "    <tr>\n",
              "      <th>2018-06-09 12:00:00</th>\n",
              "      <td>5</td>\n",
              "      <td>4602.0</td>\n",
              "      <td>293.66</td>\n",
              "      <td>0.0</td>\n",
              "      <td>0.0</td>\n",
              "      <td>75</td>\n",
              "      <td>Rain</td>\n",
              "      <td>moderate rain</td>\n",
              "    </tr>\n",
              "    <tr>\n",
              "      <th>2018-07-26 19:00:00</th>\n",
              "      <td>6</td>\n",
              "      <td>2838.0</td>\n",
              "      <td>292.75</td>\n",
              "      <td>0.0</td>\n",
              "      <td>0.0</td>\n",
              "      <td>40</td>\n",
              "      <td>Rain</td>\n",
              "      <td>proximity shower rain</td>\n",
              "    </tr>\n",
              "    <tr>\n",
              "      <th>...</th>\n",
              "      <td>...</td>\n",
              "      <td>...</td>\n",
              "      <td>...</td>\n",
              "      <td>...</td>\n",
              "      <td>...</td>\n",
              "      <td>...</td>\n",
              "      <td>...</td>\n",
              "      <td>...</td>\n",
              "    </tr>\n",
              "    <tr>\n",
              "      <th>2018-06-06 21:00:00</th>\n",
              "      <td>19995</td>\n",
              "      <td>1833.0</td>\n",
              "      <td>296.42</td>\n",
              "      <td>0.0</td>\n",
              "      <td>0.0</td>\n",
              "      <td>40</td>\n",
              "      <td>Clouds</td>\n",
              "      <td>scattered clouds</td>\n",
              "    </tr>\n",
              "    <tr>\n",
              "      <th>2017-10-25 15:00:00</th>\n",
              "      <td>19996</td>\n",
              "      <td>288.0</td>\n",
              "      <td>285.58</td>\n",
              "      <td>0.0</td>\n",
              "      <td>0.0</td>\n",
              "      <td>40</td>\n",
              "      <td>Clouds</td>\n",
              "      <td>scattered clouds</td>\n",
              "    </tr>\n",
              "    <tr>\n",
              "      <th>2018-03-28 23:00:00</th>\n",
              "      <td>19997</td>\n",
              "      <td>6601.0</td>\n",
              "      <td>275.30</td>\n",
              "      <td>0.0</td>\n",
              "      <td>0.0</td>\n",
              "      <td>1</td>\n",
              "      <td>Clear</td>\n",
              "      <td>sky is clear</td>\n",
              "    </tr>\n",
              "    <tr>\n",
              "      <th>2018-02-12 15:00:00</th>\n",
              "      <td>19998</td>\n",
              "      <td>2723.0</td>\n",
              "      <td>260.94</td>\n",
              "      <td>0.0</td>\n",
              "      <td>0.0</td>\n",
              "      <td>75</td>\n",
              "      <td>Clouds</td>\n",
              "      <td>broken clouds</td>\n",
              "    </tr>\n",
              "    <tr>\n",
              "      <th>2018-05-31 18:00:00</th>\n",
              "      <td>19999</td>\n",
              "      <td>5895.0</td>\n",
              "      <td>301.65</td>\n",
              "      <td>0.0</td>\n",
              "      <td>0.0</td>\n",
              "      <td>40</td>\n",
              "      <td>Clouds</td>\n",
              "      <td>scattered clouds</td>\n",
              "    </tr>\n",
              "  </tbody>\n",
              "</table>\n",
              "<p>19978 rows × 8 columns</p>\n",
              "</div>\n",
              "    <div class=\"colab-df-buttons\">\n",
              "\n",
              "  <div class=\"colab-df-container\">\n",
              "    <button class=\"colab-df-convert\" onclick=\"convertToInteractive('df-2414f351-21e4-419f-b89f-6615f4bb4961')\"\n",
              "            title=\"Convert this dataframe to an interactive table.\"\n",
              "            style=\"display:none;\">\n",
              "\n",
              "  <svg xmlns=\"http://www.w3.org/2000/svg\" height=\"24px\" viewBox=\"0 -960 960 960\">\n",
              "    <path d=\"M120-120v-720h720v720H120Zm60-500h600v-160H180v160Zm220 220h160v-160H400v160Zm0 220h160v-160H400v160ZM180-400h160v-160H180v160Zm440 0h160v-160H620v160ZM180-180h160v-160H180v160Zm440 0h160v-160H620v160Z\"/>\n",
              "  </svg>\n",
              "    </button>\n",
              "\n",
              "  <style>\n",
              "    .colab-df-container {\n",
              "      display:flex;\n",
              "      gap: 12px;\n",
              "    }\n",
              "\n",
              "    .colab-df-convert {\n",
              "      background-color: #E8F0FE;\n",
              "      border: none;\n",
              "      border-radius: 50%;\n",
              "      cursor: pointer;\n",
              "      display: none;\n",
              "      fill: #1967D2;\n",
              "      height: 32px;\n",
              "      padding: 0 0 0 0;\n",
              "      width: 32px;\n",
              "    }\n",
              "\n",
              "    .colab-df-convert:hover {\n",
              "      background-color: #E2EBFA;\n",
              "      box-shadow: 0px 1px 2px rgba(60, 64, 67, 0.3), 0px 1px 3px 1px rgba(60, 64, 67, 0.15);\n",
              "      fill: #174EA6;\n",
              "    }\n",
              "\n",
              "    .colab-df-buttons div {\n",
              "      margin-bottom: 4px;\n",
              "    }\n",
              "\n",
              "    [theme=dark] .colab-df-convert {\n",
              "      background-color: #3B4455;\n",
              "      fill: #D2E3FC;\n",
              "    }\n",
              "\n",
              "    [theme=dark] .colab-df-convert:hover {\n",
              "      background-color: #434B5C;\n",
              "      box-shadow: 0px 1px 3px 1px rgba(0, 0, 0, 0.15);\n",
              "      filter: drop-shadow(0px 1px 2px rgba(0, 0, 0, 0.3));\n",
              "      fill: #FFFFFF;\n",
              "    }\n",
              "  </style>\n",
              "\n",
              "    <script>\n",
              "      const buttonEl =\n",
              "        document.querySelector('#df-2414f351-21e4-419f-b89f-6615f4bb4961 button.colab-df-convert');\n",
              "      buttonEl.style.display =\n",
              "        google.colab.kernel.accessAllowed ? 'block' : 'none';\n",
              "\n",
              "      async function convertToInteractive(key) {\n",
              "        const element = document.querySelector('#df-2414f351-21e4-419f-b89f-6615f4bb4961');\n",
              "        const dataTable =\n",
              "          await google.colab.kernel.invokeFunction('convertToInteractive',\n",
              "                                                    [key], {});\n",
              "        if (!dataTable) return;\n",
              "\n",
              "        const docLinkHtml = 'Like what you see? Visit the ' +\n",
              "          '<a target=\"_blank\" href=https://colab.research.google.com/notebooks/data_table.ipynb>data table notebook</a>'\n",
              "          + ' to learn more about interactive tables.';\n",
              "        element.innerHTML = '';\n",
              "        dataTable['output_type'] = 'display_data';\n",
              "        await google.colab.output.renderOutput(dataTable, element);\n",
              "        const docLink = document.createElement('div');\n",
              "        docLink.innerHTML = docLinkHtml;\n",
              "        element.appendChild(docLink);\n",
              "      }\n",
              "    </script>\n",
              "  </div>\n",
              "\n",
              "\n",
              "<div id=\"df-589299ce-9983-4e5f-9017-d6458510024e\">\n",
              "  <button class=\"colab-df-quickchart\" onclick=\"quickchart('df-589299ce-9983-4e5f-9017-d6458510024e')\"\n",
              "            title=\"Suggest charts\"\n",
              "            style=\"display:none;\">\n",
              "\n",
              "<svg xmlns=\"http://www.w3.org/2000/svg\" height=\"24px\"viewBox=\"0 0 24 24\"\n",
              "     width=\"24px\">\n",
              "    <g>\n",
              "        <path d=\"M19 3H5c-1.1 0-2 .9-2 2v14c0 1.1.9 2 2 2h14c1.1 0 2-.9 2-2V5c0-1.1-.9-2-2-2zM9 17H7v-7h2v7zm4 0h-2V7h2v10zm4 0h-2v-4h2v4z\"/>\n",
              "    </g>\n",
              "</svg>\n",
              "  </button>\n",
              "\n",
              "<style>\n",
              "  .colab-df-quickchart {\n",
              "      --bg-color: #E8F0FE;\n",
              "      --fill-color: #1967D2;\n",
              "      --hover-bg-color: #E2EBFA;\n",
              "      --hover-fill-color: #174EA6;\n",
              "      --disabled-fill-color: #AAA;\n",
              "      --disabled-bg-color: #DDD;\n",
              "  }\n",
              "\n",
              "  [theme=dark] .colab-df-quickchart {\n",
              "      --bg-color: #3B4455;\n",
              "      --fill-color: #D2E3FC;\n",
              "      --hover-bg-color: #434B5C;\n",
              "      --hover-fill-color: #FFFFFF;\n",
              "      --disabled-bg-color: #3B4455;\n",
              "      --disabled-fill-color: #666;\n",
              "  }\n",
              "\n",
              "  .colab-df-quickchart {\n",
              "    background-color: var(--bg-color);\n",
              "    border: none;\n",
              "    border-radius: 50%;\n",
              "    cursor: pointer;\n",
              "    display: none;\n",
              "    fill: var(--fill-color);\n",
              "    height: 32px;\n",
              "    padding: 0;\n",
              "    width: 32px;\n",
              "  }\n",
              "\n",
              "  .colab-df-quickchart:hover {\n",
              "    background-color: var(--hover-bg-color);\n",
              "    box-shadow: 0 1px 2px rgba(60, 64, 67, 0.3), 0 1px 3px 1px rgba(60, 64, 67, 0.15);\n",
              "    fill: var(--button-hover-fill-color);\n",
              "  }\n",
              "\n",
              "  .colab-df-quickchart-complete:disabled,\n",
              "  .colab-df-quickchart-complete:disabled:hover {\n",
              "    background-color: var(--disabled-bg-color);\n",
              "    fill: var(--disabled-fill-color);\n",
              "    box-shadow: none;\n",
              "  }\n",
              "\n",
              "  .colab-df-spinner {\n",
              "    border: 2px solid var(--fill-color);\n",
              "    border-color: transparent;\n",
              "    border-bottom-color: var(--fill-color);\n",
              "    animation:\n",
              "      spin 1s steps(1) infinite;\n",
              "  }\n",
              "\n",
              "  @keyframes spin {\n",
              "    0% {\n",
              "      border-color: transparent;\n",
              "      border-bottom-color: var(--fill-color);\n",
              "      border-left-color: var(--fill-color);\n",
              "    }\n",
              "    20% {\n",
              "      border-color: transparent;\n",
              "      border-left-color: var(--fill-color);\n",
              "      border-top-color: var(--fill-color);\n",
              "    }\n",
              "    30% {\n",
              "      border-color: transparent;\n",
              "      border-left-color: var(--fill-color);\n",
              "      border-top-color: var(--fill-color);\n",
              "      border-right-color: var(--fill-color);\n",
              "    }\n",
              "    40% {\n",
              "      border-color: transparent;\n",
              "      border-right-color: var(--fill-color);\n",
              "      border-top-color: var(--fill-color);\n",
              "    }\n",
              "    60% {\n",
              "      border-color: transparent;\n",
              "      border-right-color: var(--fill-color);\n",
              "    }\n",
              "    80% {\n",
              "      border-color: transparent;\n",
              "      border-right-color: var(--fill-color);\n",
              "      border-bottom-color: var(--fill-color);\n",
              "    }\n",
              "    90% {\n",
              "      border-color: transparent;\n",
              "      border-bottom-color: var(--fill-color);\n",
              "    }\n",
              "  }\n",
              "</style>\n",
              "\n",
              "  <script>\n",
              "    async function quickchart(key) {\n",
              "      const quickchartButtonEl =\n",
              "        document.querySelector('#' + key + ' button');\n",
              "      quickchartButtonEl.disabled = true;  // To prevent multiple clicks.\n",
              "      quickchartButtonEl.classList.add('colab-df-spinner');\n",
              "      try {\n",
              "        const charts = await google.colab.kernel.invokeFunction(\n",
              "            'suggestCharts', [key], {});\n",
              "      } catch (error) {\n",
              "        console.error('Error during call to suggestCharts:', error);\n",
              "      }\n",
              "      quickchartButtonEl.classList.remove('colab-df-spinner');\n",
              "      quickchartButtonEl.classList.add('colab-df-quickchart-complete');\n",
              "    }\n",
              "    (() => {\n",
              "      let quickchartButtonEl =\n",
              "        document.querySelector('#df-589299ce-9983-4e5f-9017-d6458510024e button');\n",
              "      quickchartButtonEl.style.display =\n",
              "        google.colab.kernel.accessAllowed ? 'block' : 'none';\n",
              "    })();\n",
              "  </script>\n",
              "</div>\n",
              "\n",
              "    </div>\n",
              "  </div>\n"
            ],
            "application/vnd.google.colaboratory.intrinsic+json": {
              "type": "dataframe",
              "summary": "{\n  \"name\": \"df\",\n  \"rows\": 19978,\n  \"fields\": [\n    {\n      \"column\": \"date_time\",\n      \"properties\": {\n        \"dtype\": \"object\",\n        \"num_unique_values\": 16254,\n        \"samples\": [\n          \"2017-12-14 21:00:00\",\n          \"2018-08-23 08:00:00\",\n          \"2018-04-02 09:00:00\"\n        ],\n        \"semantic_type\": \"\",\n        \"description\": \"\"\n      }\n    },\n    {\n      \"column\": \"index\",\n      \"properties\": {\n        \"dtype\": \"number\",\n        \"std\": 5773,\n        \"min\": 2,\n        \"max\": 19999,\n        \"num_unique_values\": 19978,\n        \"samples\": [\n          5609,\n          8044,\n          3400\n        ],\n        \"semantic_type\": \"\",\n        \"description\": \"\"\n      }\n    },\n    {\n      \"column\": \"traffic_volume\",\n      \"properties\": {\n        \"dtype\": \"number\",\n        \"std\": 1977.1582175556262,\n        \"min\": 113.0,\n        \"max\": 16781.0,\n        \"num_unique_values\": 5753,\n        \"samples\": [\n          2816.0,\n          3276.0,\n          3791.0\n        ],\n        \"semantic_type\": \"\",\n        \"description\": \"\"\n      }\n    },\n    {\n      \"column\": \"temp\",\n      \"properties\": {\n        \"dtype\": \"number\",\n        \"std\": 12.6616315181769,\n        \"min\": 243.39,\n        \"max\": 310.07,\n        \"num_unique_values\": 3900,\n        \"samples\": [\n          272.48,\n          297.43,\n          279.22\n        ],\n        \"semantic_type\": \"\",\n        \"description\": \"\"\n      }\n    },\n    {\n      \"column\": \"rain_1h\",\n      \"properties\": {\n        \"dtype\": \"number\",\n        \"std\": 0.39822258828460433,\n        \"min\": 0.0,\n        \"max\": 10.6,\n        \"num_unique_values\": 87,\n        \"samples\": [\n          5.62,\n          0.0,\n          0.76\n        ],\n        \"semantic_type\": \"\",\n        \"description\": \"\"\n      }\n    },\n    {\n      \"column\": \"snow_1h\",\n      \"properties\": {\n        \"dtype\": \"number\",\n        \"std\": 0.0,\n        \"min\": 0.0,\n        \"max\": 0.0,\n        \"num_unique_values\": 1,\n        \"samples\": [\n          0.0\n        ],\n        \"semantic_type\": \"\",\n        \"description\": \"\"\n      }\n    },\n    {\n      \"column\": \"clouds_all\",\n      \"properties\": {\n        \"dtype\": \"number\",\n        \"std\": 39,\n        \"min\": 0,\n        \"max\": 92,\n        \"num_unique_values\": 21,\n        \"samples\": [\n          75\n        ],\n        \"semantic_type\": \"\",\n        \"description\": \"\"\n      }\n    },\n    {\n      \"column\": \"weather_main\",\n      \"properties\": {\n        \"dtype\": \"category\",\n        \"num_unique_values\": 10,\n        \"samples\": [\n          \"Haze\"\n        ],\n        \"semantic_type\": \"\",\n        \"description\": \"\"\n      }\n    },\n    {\n      \"column\": \"weather_description\",\n      \"properties\": {\n        \"dtype\": \"category\",\n        \"num_unique_values\": 34,\n        \"samples\": [\n          \"heavy intensity rain\"\n        ],\n        \"semantic_type\": \"\",\n        \"description\": \"\"\n      }\n    }\n  ]\n}"
            }
          },
          "metadata": {},
          "execution_count": 15
        }
      ]
    },
    {
      "cell_type": "markdown",
      "id": "3f9fe326",
      "metadata": {
        "id": "3f9fe326"
      },
      "source": [
        "## Train-Test Split\n",
        "\n",
        "Split the dataset into training and testing sets.\n",
        "\n",
        "**Instructions:**\n",
        "- Ensure the split maintains the time order of the data.\n",
        "- Decide on an appropriate ratio for splitting the data."
      ]
    },
    {
      "cell_type": "code",
      "source": [
        "print(df.index)\n"
      ],
      "metadata": {
        "id": "9MqzhKKO_BO0",
        "outputId": "da6cbd09-e809-4d4d-9e7d-13cd21220569",
        "colab": {
          "base_uri": "https://localhost:8080/"
        }
      },
      "id": "9MqzhKKO_BO0",
      "execution_count": 18,
      "outputs": [
        {
          "output_type": "stream",
          "name": "stdout",
          "text": [
            "Index([    2,     3,     4,     5,     6,     7,     8,     9,    10,    11,\n",
            "       ...\n",
            "       19990, 19991, 19992, 19993, 19994, 19995, 19996, 19997, 19998, 19999],\n",
            "      dtype='int64', length=19978)\n"
          ]
        }
      ]
    },
    {
      "cell_type": "code",
      "source": [
        "df.index = df.index.astype(int)\n"
      ],
      "metadata": {
        "id": "kKf-TEuK_Hzn"
      },
      "id": "kKf-TEuK_Hzn",
      "execution_count": 19,
      "outputs": []
    },
    {
      "cell_type": "code",
      "source": [
        "df = df.sort_index()\n"
      ],
      "metadata": {
        "id": "LzbhbHqMBAol"
      },
      "id": "LzbhbHqMBAol",
      "execution_count": 24,
      "outputs": []
    },
    {
      "cell_type": "code",
      "execution_count": 25,
      "id": "38bd86e0",
      "metadata": {
        "id": "38bd86e0"
      },
      "outputs": [],
      "source": [
        "train_data = df[:'2017'].iloc[:,2:3].values\n",
        "test_data = df['2018':].iloc[:,2:3].values"
      ]
    },
    {
      "cell_type": "code",
      "source": [
        "df[\"traffic_volume\"][:'2017'].plot(figsize=(14,4),legend=True, color= 'blue')\n",
        "df[\"traffic_volume\"]['2018':].plot(figsize=(14,4),legend=True, color = 'black')\n",
        "plt.legend(['( 2017)','  (2018  )'])\n",
        "plt.title('traffic_volume')\n",
        "plt.show()"
      ],
      "metadata": {
        "id": "TRBVyZ5KBqym",
        "outputId": "cf3ae06b-4c8c-4972-e361-83413ce4cb2b",
        "colab": {
          "base_uri": "https://localhost:8080/",
          "height": 301
        }
      },
      "id": "TRBVyZ5KBqym",
      "execution_count": 90,
      "outputs": [
        {
          "output_type": "display_data",
          "data": {
            "text/plain": [
              "<Figure size 1400x400 with 1 Axes>"
            ],
            "image/png": "[encoded data removed]"
          },
          "metadata": {}
        }
      ]
    },
    {
      "cell_type": "code",
      "source": [],
      "metadata": {
        "id": "C0oK6aI2BuFC"
      },
      "id": "C0oK6aI2BuFC",
      "execution_count": null,
      "outputs": []
    },
    {
      "cell_type": "markdown",
      "id": "4bd267bb",
      "metadata": {
        "id": "4bd267bb"
      },
      "source": [
        "## Feature Scaling\n",
        "\n",
        "Apply feature scaling to the data if needed.\n",
        "\n",
        "**Instructions:**\n",
        "- Use a scaling method such as MinMaxScaler or StandardScaler.\n",
        "- Ensure scaling is applied correctly to both training and testing data."
      ]
    },
    {
      "cell_type": "code",
      "execution_count": 35,
      "id": "2a8387e5",
      "metadata": {
        "id": "2a8387e5"
      },
      "outputs": [],
      "source": [
        "\n",
        "scaler = MinMaxScaler()\n",
        "train_data = scaler.fit_transform(train_data)\n",
        "test_data = scaler.transform(test_data)"
      ]
    },
    {
      "cell_type": "markdown",
      "id": "4f0be6e9",
      "metadata": {
        "id": "4f0be6e9"
      },
      "source": [
        "## Models Selection\n",
        "\n",
        "Choose two models for time series forecasting.\n",
        "\n",
        "**Instructions:**\n",
        "- Select two models such as ARIMA, SARIMA, RNN, LSTM, or GRU.\n",
        "- Train these models and then compare their performance."
      ]
    },
    {
      "cell_type": "markdown",
      "id": "0981f787",
      "metadata": {
        "id": "0981f787"
      },
      "source": [
        "### Model 1 Training\n",
        "\n",
        "Train your first model on the training dataset.\n",
        "\n",
        "**Instructions:**\n",
        "- Fit the first model to the training data.\n",
        "- Ensure to monitor the training process."
      ]
    },
    {
      "cell_type": "code",
      "source": [
        "from keras.models import Sequential\n",
        "from keras.layers import Dense, SimpleRNN, LSTM, Dropout, GRU"
      ],
      "metadata": {
        "id": "9Vf8VZU0Iacq"
      },
      "id": "9Vf8VZU0Iacq",
      "execution_count": 43,
      "outputs": []
    },
    {
      "cell_type": "code",
      "source": [
        "keras.layers.Dropout(rate, noise_shape=None, seed=None, **kwargs)"
      ],
      "metadata": {
        "id": "baSda2dCOADH",
        "outputId": "c631bb07-0696-4924-be77-e6fa8163afb1",
        "colab": {
          "base_uri": "https://localhost:8080/",
          "height": 141
        }
      },
      "id": "baSda2dCOADH",
      "execution_count": 87,
      "outputs": [
        {
          "output_type": "error",
          "ename": "NameError",
          "evalue": "name 'rate' is not defined",
          "traceback": [
            "\u001b[0;31m---------------------------------------------------------------------------\u001b[0m",
            "\u001b[0;31mNameError\u001b[0m                                 Traceback (most recent call last)",
            "\u001b[0;32m<ipython-input-87-3599cea920e0>\u001b[0m in \u001b[0;36m<cell line: 1>\u001b[0;34m()\u001b[0m\n\u001b[0;32m----> 1\u001b[0;31m \u001b[0mkeras\u001b[0m\u001b[0;34m.\u001b[0m\u001b[0mlayers\u001b[0m\u001b[0;34m.\u001b[0m\u001b[0mDropout\u001b[0m\u001b[0;34m(\u001b[0m\u001b[0mrate\u001b[0m\u001b[0;34m,\u001b[0m \u001b[0mnoise_shape\u001b[0m\u001b[0;34m=\u001b[0m\u001b[0;32mNone\u001b[0m\u001b[0;34m,\u001b[0m \u001b[0mseed\u001b[0m\u001b[0;34m=\u001b[0m\u001b[0;32mNone\u001b[0m\u001b[0;34m,\u001b[0m \u001b[0;34m**\u001b[0m\u001b[0mkwargs\u001b[0m\u001b[0;34m)\u001b[0m\u001b[0;34m\u001b[0m\u001b[0;34m\u001b[0m\u001b[0m\n\u001b[0m",
            "\u001b[0;31mNameError\u001b[0m: name 'rate' is not defined"
          ]
        }
      ]
    },
    {
      "cell_type": "code",
      "source": [
        "n_past = 60\n",
        "X_train, y_train = [], []\n",
        "for i in range(n_past, len(train_data)):\n",
        "    X_train.append(train_data[i - n_past:i, 0])\n",
        "    y_train.append(train_data[i, 0])\n",
        "X_train, y_train = np.array(X_train), np.array(y_train)\n"
      ],
      "metadata": {
        "id": "d-m84QUmNjV1"
      },
      "id": "d-m84QUmNjV1",
      "execution_count": 88,
      "outputs": []
    },
    {
      "cell_type": "code",
      "source": [
        "X_train = np.reshape(X_train, (X_train.shape[0],X_train.shape[1],1))\n"
      ],
      "metadata": {
        "id": "bwhXsEfIM4Cl",
        "outputId": "5106184e-f8b1-4e0d-f821-8be74fedbb6f",
        "colab": {
          "base_uri": "https://localhost:8080/",
          "height": 158
        }
      },
      "id": "bwhXsEfIM4Cl",
      "execution_count": 86,
      "outputs": [
        {
          "output_type": "error",
          "ename": "AttributeError",
          "evalue": "'list' object has no attribute 'shape'",
          "traceback": [
            "\u001b[0;31m---------------------------------------------------------------------------\u001b[0m",
            "\u001b[0;31mAttributeError\u001b[0m                            Traceback (most recent call last)",
            "\u001b[0;32m<ipython-input-86-4c4b39fb6b33>\u001b[0m in \u001b[0;36m<cell line: 2>\u001b[0;34m()\u001b[0m\n\u001b[1;32m      1\u001b[0m \u001b[0mX_train\u001b[0m \u001b[0;34m=\u001b[0m \u001b[0mnp\u001b[0m\u001b[0;34m.\u001b[0m\u001b[0mreshape\u001b[0m\u001b[0;34m(\u001b[0m\u001b[0mX_train\u001b[0m\u001b[0;34m,\u001b[0m \u001b[0;34m(\u001b[0m\u001b[0mX_train\u001b[0m\u001b[0;34m.\u001b[0m\u001b[0mshape\u001b[0m\u001b[0;34m[\u001b[0m\u001b[0;36m0\u001b[0m\u001b[0;34m]\u001b[0m\u001b[0;34m,\u001b[0m\u001b[0mX_train\u001b[0m\u001b[0;34m.\u001b[0m\u001b[0mshape\u001b[0m\u001b[0;34m[\u001b[0m\u001b[0;36m1\u001b[0m\u001b[0;34m]\u001b[0m\u001b[0;34m,\u001b[0m\u001b[0;36m1\u001b[0m\u001b[0;34m)\u001b[0m\u001b[0;34m)\u001b[0m\u001b[0;34m\u001b[0m\u001b[0;34m\u001b[0m\u001b[0m\n\u001b[0;32m----> 2\u001b[0;31m \u001b[0mX_test\u001b[0m \u001b[0;34m=\u001b[0m \u001b[0mnp\u001b[0m\u001b[0;34m.\u001b[0m\u001b[0mreshape\u001b[0m\u001b[0;34m(\u001b[0m\u001b[0mX_test\u001b[0m\u001b[0;34m,\u001b[0m \u001b[0;34m(\u001b[0m\u001b[0mX_test\u001b[0m\u001b[0;34m.\u001b[0m\u001b[0mshape\u001b[0m\u001b[0;34m[\u001b[0m\u001b[0;36m0\u001b[0m\u001b[0;34m]\u001b[0m\u001b[0;34m,\u001b[0m\u001b[0mX_test\u001b[0m\u001b[0;34m.\u001b[0m\u001b[0mshape\u001b[0m\u001b[0;34m[\u001b[0m\u001b[0;36m1\u001b[0m\u001b[0;34m]\u001b[0m\u001b[0;34m,\u001b[0m\u001b[0;36m1\u001b[0m\u001b[0;34m)\u001b[0m\u001b[0;34m)\u001b[0m\u001b[0;34m\u001b[0m\u001b[0;34m\u001b[0m\u001b[0m\n\u001b[0m",
            "\u001b[0;31mAttributeError\u001b[0m: 'list' object has no attribute 'shape'"
          ]
        }
      ]
    },
    {
      "cell_type": "code",
      "source": [
        "RNN_model = Sequential()\n",
        "\n",
        "RNN_model.add(SimpleRNN(units=50, return_sequences = True, input_shape = (X_train.shape[1],1)))\n",
        "RNN_model.add(Dropout(0.2))\n",
        "\n",
        "RNN_model.add(SimpleRNN(units=50, return_sequences = True))\n",
        "RNN_model.add(Dropout(0.2))\n",
        "\n",
        "RNN_model.add(SimpleRNN(units=50))\n",
        "RNN_model.add(Dropout(0.2))\n",
        "\n",
        "RNN_model.add(Dense(units = 1))\n",
        "RNN_model.summary()"
      ],
      "metadata": {
        "id": "eJkm81ADMwv2",
        "outputId": "0746b434-ed13-4d92-bc48-3c1e8acc4d0b",
        "colab": {
          "base_uri": "https://localhost:8080/",
          "height": 353
        }
      },
      "id": "eJkm81ADMwv2",
      "execution_count": 68,
      "outputs": [
        {
          "output_type": "display_data",
          "data": {
            "text/plain": [
              "\u001b[1mModel: \"sequential_5\"\u001b[0m\n"
            ],
            "text/html": [
              "<pre style=\"white-space:pre;overflow-x:auto;line-height:normal;font-family:Menlo,'DejaVu Sans Mono',consolas,'Courier New',monospace\"><span style=\"font-weight: bold\">Model: \"sequential_5\"</span>\n",
              "</pre>\n"
            ]
          },
          "metadata": {}
        },
        {
          "output_type": "display_data",
          "data": {
            "text/plain": [
              "┏━━━━━━━━━━━━━━━━━━━━━━━━━━━━━━━━━━━━━━┳━━━━━━━━━━━━━━━━━━━━━━━━━━━━━┳━━━━━━━━━━━━━━━━━┓\n",
              "┃\u001b[1m \u001b[0m\u001b[1mLayer (type)                        \u001b[0m\u001b[1m \u001b[0m┃\u001b[1m \u001b[0m\u001b[1mOutput Shape               \u001b[0m\u001b[1m \u001b[0m┃\u001b[1m \u001b[0m\u001b[1m        Param #\u001b[0m\u001b[1m \u001b[0m┃\n",
              "┡━━━━━━━━━━━━━━━━━━━━━━━━━━━━━━━━━━━━━━╇━━━━━━━━━━━━━━━━━━━━━━━━━━━━━╇━━━━━━━━━━━━━━━━━┩\n",
              "│ simple_rnn_3 (\u001b[38;5;33mSimpleRNN\u001b[0m)             │ (\u001b[38;5;45mNone\u001b[0m, \u001b[38;5;34m60\u001b[0m, \u001b[38;5;34m50\u001b[0m)              │           \u001b[38;5;34m2,600\u001b[0m │\n",
              "├──────────────────────────────────────┼─────────────────────────────┼─────────────────┤\n",
              "│ dropout_3 (\u001b[38;5;33mDropout\u001b[0m)                  │ (\u001b[38;5;45mNone\u001b[0m, \u001b[38;5;34m60\u001b[0m, \u001b[38;5;34m50\u001b[0m)              │               \u001b[38;5;34m0\u001b[0m │\n",
              "├──────────────────────────────────────┼─────────────────────────────┼─────────────────┤\n",
              "│ simple_rnn_4 (\u001b[38;5;33mSimpleRNN\u001b[0m)             │ (\u001b[38;5;45mNone\u001b[0m, \u001b[38;5;34m60\u001b[0m, \u001b[38;5;34m50\u001b[0m)              │           \u001b[38;5;34m5,050\u001b[0m │\n",
              "├──────────────────────────────────────┼─────────────────────────────┼─────────────────┤\n",
              "│ dropout_4 (\u001b[38;5;33mDropout\u001b[0m)                  │ (\u001b[38;5;45mNone\u001b[0m, \u001b[38;5;34m60\u001b[0m, \u001b[38;5;34m50\u001b[0m)              │               \u001b[38;5;34m0\u001b[0m │\n",
              "├──────────────────────────────────────┼─────────────────────────────┼─────────────────┤\n",
              "│ simple_rnn_5 (\u001b[38;5;33mSimpleRNN\u001b[0m)             │ (\u001b[38;5;45mNone\u001b[0m, \u001b[38;5;34m50\u001b[0m)                  │           \u001b[38;5;34m5,050\u001b[0m │\n",
              "├──────────────────────────────────────┼─────────────────────────────┼─────────────────┤\n",
              "│ dropout_5 (\u001b[38;5;33mDropout\u001b[0m)                  │ (\u001b[38;5;45mNone\u001b[0m, \u001b[38;5;34m50\u001b[0m)                  │               \u001b[38;5;34m0\u001b[0m │\n",
              "├──────────────────────────────────────┼─────────────────────────────┼─────────────────┤\n",
              "│ dense_3 (\u001b[38;5;33mDense\u001b[0m)                      │ (\u001b[38;5;45mNone\u001b[0m, \u001b[38;5;34m1\u001b[0m)                   │              \u001b[38;5;34m51\u001b[0m │\n",
              "└──────────────────────────────────────┴─────────────────────────────┴─────────────────┘\n"
            ],
            "text/html": [
              "<pre style=\"white-space:pre;overflow-x:auto;line-height:normal;font-family:Menlo,'DejaVu Sans Mono',consolas,'Courier New',monospace\">┏━━━━━━━━━━━━━━━━━━━━━━━━━━━━━━━━━━━━━━┳━━━━━━━━━━━━━━━━━━━━━━━━━━━━━┳━━━━━━━━━━━━━━━━━┓\n",
              "┃<span style=\"font-weight: bold\"> Layer (type)                         </span>┃<span style=\"font-weight: bold\"> Output Shape                </span>┃<span style=\"font-weight: bold\">         Param # </span>┃\n",
              "┡━━━━━━━━━━━━━━━━━━━━━━━━━━━━━━━━━━━━━━╇━━━━━━━━━━━━━━━━━━━━━━━━━━━━━╇━━━━━━━━━━━━━━━━━┩\n",
              "│ simple_rnn_3 (<span style=\"color: #0087ff; text-decoration-color: #0087ff\">SimpleRNN</span>)             │ (<span style=\"color: #00d7ff; text-decoration-color: #00d7ff\">None</span>, <span style=\"color: #00af00; text-decoration-color: #00af00\">60</span>, <span style=\"color: #00af00; text-decoration-color: #00af00\">50</span>)              │           <span style=\"color: #00af00; text-decoration-color: #00af00\">2,600</span> │\n",
              "├──────────────────────────────────────┼─────────────────────────────┼─────────────────┤\n",
              "│ dropout_3 (<span style=\"color: #0087ff; text-decoration-color: #0087ff\">Dropout</span>)                  │ (<span style=\"color: #00d7ff; text-decoration-color: #00d7ff\">None</span>, <span style=\"color: #00af00; text-decoration-color: #00af00\">60</span>, <span style=\"color: #00af00; text-decoration-color: #00af00\">50</span>)              │               <span style=\"color: #00af00; text-decoration-color: #00af00\">0</span> │\n",
              "├──────────────────────────────────────┼─────────────────────────────┼─────────────────┤\n",
              "│ simple_rnn_4 (<span style=\"color: #0087ff; text-decoration-color: #0087ff\">SimpleRNN</span>)             │ (<span style=\"color: #00d7ff; text-decoration-color: #00d7ff\">None</span>, <span style=\"color: #00af00; text-decoration-color: #00af00\">60</span>, <span style=\"color: #00af00; text-decoration-color: #00af00\">50</span>)              │           <span style=\"color: #00af00; text-decoration-color: #00af00\">5,050</span> │\n",
              "├──────────────────────────────────────┼─────────────────────────────┼─────────────────┤\n",
              "│ dropout_4 (<span style=\"color: #0087ff; text-decoration-color: #0087ff\">Dropout</span>)                  │ (<span style=\"color: #00d7ff; text-decoration-color: #00d7ff\">None</span>, <span style=\"color: #00af00; text-decoration-color: #00af00\">60</span>, <span style=\"color: #00af00; text-decoration-color: #00af00\">50</span>)              │               <span style=\"color: #00af00; text-decoration-color: #00af00\">0</span> │\n",
              "├──────────────────────────────────────┼─────────────────────────────┼─────────────────┤\n",
              "│ simple_rnn_5 (<span style=\"color: #0087ff; text-decoration-color: #0087ff\">SimpleRNN</span>)             │ (<span style=\"color: #00d7ff; text-decoration-color: #00d7ff\">None</span>, <span style=\"color: #00af00; text-decoration-color: #00af00\">50</span>)                  │           <span style=\"color: #00af00; text-decoration-color: #00af00\">5,050</span> │\n",
              "├──────────────────────────────────────┼─────────────────────────────┼─────────────────┤\n",
              "│ dropout_5 (<span style=\"color: #0087ff; text-decoration-color: #0087ff\">Dropout</span>)                  │ (<span style=\"color: #00d7ff; text-decoration-color: #00d7ff\">None</span>, <span style=\"color: #00af00; text-decoration-color: #00af00\">50</span>)                  │               <span style=\"color: #00af00; text-decoration-color: #00af00\">0</span> │\n",
              "├──────────────────────────────────────┼─────────────────────────────┼─────────────────┤\n",
              "│ dense_3 (<span style=\"color: #0087ff; text-decoration-color: #0087ff\">Dense</span>)                      │ (<span style=\"color: #00d7ff; text-decoration-color: #00d7ff\">None</span>, <span style=\"color: #00af00; text-decoration-color: #00af00\">1</span>)                   │              <span style=\"color: #00af00; text-decoration-color: #00af00\">51</span> │\n",
              "└──────────────────────────────────────┴─────────────────────────────┴─────────────────┘\n",
              "</pre>\n"
            ]
          },
          "metadata": {}
        },
        {
          "output_type": "display_data",
          "data": {
            "text/plain": [
              "\u001b[1m Total params: \u001b[0m\u001b[38;5;34m12,751\u001b[0m (49.81 KB)\n"
            ],
            "text/html": [
              "<pre style=\"white-space:pre;overflow-x:auto;line-height:normal;font-family:Menlo,'DejaVu Sans Mono',consolas,'Courier New',monospace\"><span style=\"font-weight: bold\"> Total params: </span><span style=\"color: #00af00; text-decoration-color: #00af00\">12,751</span> (49.81 KB)\n",
              "</pre>\n"
            ]
          },
          "metadata": {}
        },
        {
          "output_type": "display_data",
          "data": {
            "text/plain": [
              "\u001b[1m Trainable params: \u001b[0m\u001b[38;5;34m12,751\u001b[0m (49.81 KB)\n"
            ],
            "text/html": [
              "<pre style=\"white-space:pre;overflow-x:auto;line-height:normal;font-family:Menlo,'DejaVu Sans Mono',consolas,'Courier New',monospace\"><span style=\"font-weight: bold\"> Trainable params: </span><span style=\"color: #00af00; text-decoration-color: #00af00\">12,751</span> (49.81 KB)\n",
              "</pre>\n"
            ]
          },
          "metadata": {}
        },
        {
          "output_type": "display_data",
          "data": {
            "text/plain": [
              "\u001b[1m Non-trainable params: \u001b[0m\u001b[38;5;34m0\u001b[0m (0.00 B)\n"
            ],
            "text/html": [
              "<pre style=\"white-space:pre;overflow-x:auto;line-height:normal;font-family:Menlo,'DejaVu Sans Mono',consolas,'Courier New',monospace\"><span style=\"font-weight: bold\"> Non-trainable params: </span><span style=\"color: #00af00; text-decoration-color: #00af00\">0</span> (0.00 B)\n",
              "</pre>\n"
            ]
          },
          "metadata": {}
        }
      ]
    },
    {
      "cell_type": "markdown",
      "id": "5f5b3fe3",
      "metadata": {
        "id": "5f5b3fe3"
      },
      "source": [
        "### Make 1 Predictions\n",
        "\n",
        "Generate predictions on the test dataset.\n",
        "\n",
        "### Instructions:\n",
        "- Use the trained model to make predictions on the test data.\n",
        "- Store the predictions for further analysis."
      ]
    },
    {
      "cell_type": "code",
      "execution_count": null,
      "id": "d1d5cca3",
      "metadata": {
        "id": "d1d5cca3"
      },
      "outputs": [],
      "source": []
    },
    {
      "cell_type": "markdown",
      "id": "6489cd08",
      "metadata": {
        "id": "6489cd08"
      },
      "source": [
        "### Model 1 Evaluation\n",
        "\n",
        "Evaluate the performance of your first model on the test dataset.\n",
        "\n",
        "**Instructions:**\n",
        "- Calculate evaluation metrics such as MAE, MSE, RMSE, or MAPE.\n",
        "- Plot the predicted vs actual values for the test set.\n",
        "- Plot the loss and the validation loss."
      ]
    },
    {
      "cell_type": "code",
      "source": [],
      "metadata": {
        "id": "y-ctXxcwQ4ak"
      },
      "id": "y-ctXxcwQ4ak",
      "execution_count": null,
      "outputs": []
    },
    {
      "cell_type": "markdown",
      "source": [],
      "metadata": {
        "id": "47cWSzHcT5lV"
      },
      "id": "47cWSzHcT5lV"
    },
    {
      "cell_type": "markdown",
      "source": [],
      "metadata": {
        "id": "1YdNDQ76VGV2"
      },
      "id": "1YdNDQ76VGV2"
    },
    {
      "cell_type": "markdown",
      "id": "82dd396a",
      "metadata": {
        "id": "82dd396a"
      },
      "source": [
        "### Model 2 Training\n",
        "\n",
        "Train your second model on the training dataset.\n",
        "\n",
        "**Instructions:**\n",
        "- Fit the second model to the training data.\n",
        "- Ensure to monitor the training process."
      ]
    },
    {
      "cell_type": "code",
      "execution_count": null,
      "id": "b8605884",
      "metadata": {
        "id": "b8605884"
      },
      "outputs": [],
      "source": []
    },
    {
      "cell_type": "markdown",
      "id": "3e811d93",
      "metadata": {
        "id": "3e811d93"
      },
      "source": [
        "### Make 2 Predictions\n",
        "\n",
        "Generate predictions on the test dataset.\n",
        "\n",
        "### Instructions:\n",
        "- Use the trained model to make predictions on the test data.\n",
        "- Store the predictions for further analysis."
      ]
    },
    {
      "cell_type": "code",
      "execution_count": null,
      "id": "d1492fe0",
      "metadata": {
        "id": "d1492fe0"
      },
      "outputs": [],
      "source": []
    },
    {
      "cell_type": "markdown",
      "id": "9d7f7af2",
      "metadata": {
        "id": "9d7f7af2"
      },
      "source": [
        "### Model 2 Evaluation\n",
        "\n",
        "Evaluate the performance of your second model on the test dataset.\n",
        "\n",
        "**Instructions:**\n",
        "- Calculate evaluation metrics such as MAE, MSE, RMSE, or MAPE.\n",
        "- Plot the predicted vs actual values for the test set.\n",
        "- Plot the loss and the validation loss."
      ]
    },
    {
      "cell_type": "code",
      "execution_count": null,
      "id": "7c3b85de",
      "metadata": {
        "id": "7c3b85de"
      },
      "outputs": [],
      "source": []
    },
    {
      "cell_type": "markdown",
      "id": "9cb9e77a",
      "metadata": {
        "id": "9cb9e77a"
      },
      "source": [
        "## Project Questions:\n",
        "\n",
        "1. **Data Preprocessing**: Explain why you chose your specific data preprocessing techniques (e.g., normalization, handling missing values). How did these techniques help prepare the data for training the model?\n",
        "2. **Feature Engineering**: Did you perform any feature engineering or transformations? Describe your decisions and how these new features (or transformed features) contributed to the forecasting model.\n",
        "3. **Model Architecture**: Describe the reasoning behind your model’s architecture (e.g., the type of model, layers, number of neurons, and activation functions). Why did you believe this architecture was appropriate for time series forecasting?\n",
        "4. **Training Process**: Discuss why you chose your batch size, number of epochs, and optimizer. How did these choices affect the training process? Did you experiment with different values, and what were the outcomes?\n",
        "5. **Loss Function and Metrics**: Why did you choose the specific loss function and evaluation metrics (e.g., MAE, RMSE, MAPE)? How do they align with the objective of forecasting?\n",
        "6. **Model Tuning (If Done)**: Describe any tuning you performed (e.g., hyperparameter tuning) and why you felt it was necessary. How did these adjustments improve model performance?\n",
        "7. **Overfitting and Underfitting**: Analyze whether the model encountered any overfitting or underfitting during training. What strategies could you implement to mitigate these issues?\n",
        "8. **Future Improvements**: Suggest potential improvements or further steps you could take to enhance model performance. Consider using different algorithms, feature engineering techniques, or tuning hyperparameters."
      ]
    },
    {
      "cell_type": "markdown",
      "id": "67ba7c70",
      "metadata": {
        "id": "67ba7c70"
      },
      "source": [
        "### Answer Here:"
      ]
    }
  ],
  "metadata": {
    "kernelspec": {
      "display_name": "base",
      "language": "python",
      "name": "python3"
    },
    "language_info": {
      "codemirror_mode": {
        "name": "ipython",
        "version": 3
      },
      "file_extension": ".py",
      "mimetype": "text/x-python",
      "name": "python",
      "nbconvert_exporter": "python",
      "pygments_lexer": "ipython3",
      "version": "3.12.4"
    },
    "colab": {
      "provenance": [],
      "include_colab_link": true
    }
  },
  "nbformat": 4,
  "nbformat_minor": 5
}