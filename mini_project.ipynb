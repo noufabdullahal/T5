{
  "metadata": {
    "kernelspec": {
      "display_name": "Python 3",
      "language": "python",
      "name": "python3"
    },
    "language_info": {
      "codemirror_mode": {
        "name": "ipython",
        "version": 3
      },
      "file_extension": ".py",
      "mimetype": "text/x-python",
      "name": "python",
      "nbconvert_exporter": "python",
      "pygments_lexer": "ipython3",
      "version": "3.7.3"
    },
    "kaggle": {
      "accelerator": "gpu",
      "dataSources": [
        {
          "sourceId": 14429,
          "databundleVersionId": 420648,
          "sourceType": "competition"
        }
      ],
      "dockerImageVersionId": 25114,
      "isInternetEnabled": false,
      "language": "python",
      "sourceType": "notebook",
      "isGpuEnabled": true
    },
    "colab": {
      "provenance": [],
      "toc_visible": true,
      "include_colab_link": true
    }
  },
  "nbformat_minor": 0,
  "nbformat": 4,
  "cells": [
    {
      "cell_type": "markdown",
      "metadata": {
        "id": "view-in-github",
        "colab_type": "text"
      },
      "source": [
        "<a href=\"https://colab.research.google.com/github/noufabdullahal/T5/blob/main/mini_project.ipynb\" target=\"_parent\"><img src=\"https://colab.research.google.com/assets/colab-badge.svg\" alt=\"Open In Colab\"/></a>"
      ]
    },
    {
      "cell_type": "markdown",
      "source": [
        "**LISA Traffic Light Dataset**"
      ],
      "metadata": {
        "id": "SDapWyOOSkT-"
      }
    },
    {
      "cell_type": "code",
      "source": [
        "import os\n",
        "import pandas as pd\n",
        "from PIL import Image\n",
        "import matplotlib.pyplot as plt\n",
        "import numpy as np\n",
        "from torchvision import transforms\n",
        "from torch.utils.data import DataLoader, Dataset\n",
        "import torch\n",
        "import torch.nn as nn\n",
        "import torch.optim as optim\n",
        "from tensorflow.keras.preprocessing.image import ImageDataGenerator\n",
        "from tensorflow.keras import layers, models\n",
        "from tensorflow.keras.callbacks import EarlyStopping\n",
        "from google.colab import drive\n"
      ],
      "metadata": {
        "id": "EE-YTB_TNlp3"
      },
      "execution_count": null,
      "outputs": []
    },
    {
      "cell_type": "code",
      "source": [
        "drive.mount('/content/drive')\n",
        "\n",
        "# Load data from CSV files\n",
        "df_bulb = pd.read_csv('/content/drive/My Drive/archive-7/sample-nightClip1/sample-nightClip1/frameAnnotationsBULB.csv', delimiter=';')\n",
        "df_box = pd.read_csv('/content/drive/My Drive/archive-7/sample-nightClip1/sample-nightClip1/frameAnnotationsBOX.csv', delimiter=';')\n"
      ],
      "metadata": {
        "colab": {
          "base_uri": "https://localhost:8080/"
        },
        "id": "Bh5TdxXFE8gX",
        "outputId": "2d4f308a-884c-40ee-8aa4-ca279b5fa3b7"
      },
      "execution_count": null,
      "outputs": [
        {
          "output_type": "stream",
          "name": "stdout",
          "text": [
            "Mounted at /content/drive\n"
          ]
        }
      ]
    },
    {
      "cell_type": "code",
      "source": [
        "# Display columns and first few rows to verify data\n",
        "print(\"frameAnnotationsBULB.csv\")\n",
        "print(df_bulb.columns)\n",
        "print(df_bulb.head())\n",
        "\n",
        "print(\"\\nframeAnnotationsBOX.csv\")\n",
        "print(df_box.columns)\n",
        "print(df_box.head())"
      ],
      "metadata": {
        "colab": {
          "base_uri": "https://localhost:8080/"
        },
        "id": "1WdG745NEERw",
        "outputId": "d5b4d2e1-dca5-4edb-b3b3-a58b0695c3f7"
      },
      "execution_count": null,
      "outputs": [
        {
          "output_type": "stream",
          "name": "stdout",
          "text": [
            "frameAnnotationsBULB.csv\n",
            "Index(['Filename', 'Annotation tag', 'Upper left corner X',\n",
            "       'Upper left corner Y', 'Lower right corner X', 'Lower right corner Y',\n",
            "       'Origin file', 'Origin frame number', 'Origin track',\n",
            "       'Origin track frame number'],\n",
            "      dtype='object')\n",
            "                              Filename Annotation tag  Upper left corner X  \\\n",
            "0  nightTraining/nightClip1--00000.jpg             go                  656   \n",
            "1  nightTraining/nightClip1--00000.jpg             go                  715   \n",
            "2  nightTraining/nightClip1--00000.jpg             go                  809   \n",
            "3  nightTraining/nightClip1--00000.jpg             go                  691   \n",
            "4  nightTraining/nightClip1--00000.jpg             go                  712   \n",
            "\n",
            "   Upper left corner Y  Lower right corner X  Lower right corner Y  \\\n",
            "0                  300                   667                   313   \n",
            "1                  304                   727                   316   \n",
            "2                  352                   820                   365   \n",
            "3                  359                   698                   367   \n",
            "4                  359                   719                   367   \n",
            "\n",
            "                          Origin file  Origin frame number  \\\n",
            "0  nightTraining/nightClip1/clip1.mp4                    0   \n",
            "1  nightTraining/nightClip1/clip1.mp4                    0   \n",
            "2  nightTraining/nightClip1/clip1.mp4                    0   \n",
            "3  nightTraining/nightClip1/clip1.mp4                    0   \n",
            "4  nightTraining/nightClip1/clip1.mp4                    0   \n",
            "\n",
            "                         Origin track  Origin track frame number  \n",
            "0  nightTraining/nightClip1/clip1.mp4                          0  \n",
            "1  nightTraining/nightClip1/clip1.mp4                          0  \n",
            "2  nightTraining/nightClip1/clip1.mp4                          0  \n",
            "3  nightTraining/nightClip1/clip1.mp4                          0  \n",
            "4  nightTraining/nightClip1/clip1.mp4                          0  \n",
            "\n",
            "frameAnnotationsBOX.csv\n",
            "Index(['Filename', 'Annotation tag', 'Upper left corner X',\n",
            "       'Upper left corner Y', 'Lower right corner X', 'Lower right corner Y',\n",
            "       'Origin file', 'Origin frame number', 'Origin track',\n",
            "       'Origin track frame number'],\n",
            "      dtype='object')\n",
            "                              Filename Annotation tag  Upper left corner X  \\\n",
            "0  nightTraining/nightClip1--00000.jpg             go                  650   \n",
            "1  nightTraining/nightClip1--00000.jpg             go                  709   \n",
            "2  nightTraining/nightClip1--00000.jpg             go                  803   \n",
            "3  nightTraining/nightClip1--00000.jpg             go                  687   \n",
            "4  nightTraining/nightClip1--00000.jpg             go                  708   \n",
            "\n",
            "   Upper left corner Y  Lower right corner X  Lower right corner Y  \\\n",
            "0                  280                   669                   319   \n",
            "1                  286                   730                   322   \n",
            "2                  332                   822                   371   \n",
            "3                  347                   699                   371   \n",
            "4                  347                   720                   371   \n",
            "\n",
            "                          Origin file  Origin frame number  \\\n",
            "0  nightTraining/nightClip1/clip1.mp4                    0   \n",
            "1  nightTraining/nightClip1/clip1.mp4                    0   \n",
            "2  nightTraining/nightClip1/clip1.mp4                    0   \n",
            "3  nightTraining/nightClip1/clip1.mp4                    0   \n",
            "4  nightTraining/nightClip1/clip1.mp4                    0   \n",
            "\n",
            "                         Origin track  Origin track frame number  \n",
            "0  nightTraining/nightClip1/clip1.mp4                          0  \n",
            "1  nightTraining/nightClip1/clip1.mp4                          0  \n",
            "2  nightTraining/nightClip1/clip1.mp4                          0  \n",
            "3  nightTraining/nightClip1/clip1.mp4                          0  \n",
            "4  nightTraining/nightClip1/clip1.mp4                          0  \n"
          ]
        }
      ]
    },
    {
      "cell_type": "code",
      "source": [
        "# Ensure 'Filename' column contains only the filename, not the full path\n",
        "df_bulb['Filename'] = df_bulb['Filename'].apply(lambda x: x.split('/')[-1])\n",
        "df_box['Filename'] = df_box['Filename'].apply(lambda x: x.split('/')[-1])\n"
      ],
      "metadata": {
        "id": "OH2uGmglFIV5"
      },
      "execution_count": null,
      "outputs": []
    },
    {
      "cell_type": "code",
      "source": [
        "from google.colab import drive\n",
        "drive.mount('/content/drive')\n"
      ],
      "metadata": {
        "colab": {
          "base_uri": "https://localhost:8080/"
        },
        "id": "0fy3wtvnFRkR",
        "outputId": "ec8920f9-6e4b-4a2e-c00e-3fe10ecc87f8"
      },
      "execution_count": null,
      "outputs": [
        {
          "output_type": "stream",
          "name": "stdout",
          "text": [
            "Drive already mounted at /content/drive; to attempt to forcibly remount, call drive.mount(\"/content/drive\", force_remount=True).\n"
          ]
        }
      ]
    },
    {
      "cell_type": "code",
      "source": [
        "# Define image directory\n",
        "image_folder_path = '/content/drive/My Drive/archive-7/sample-nightClip1/sample-nightClip1/frames/'\n",
        "\n"
      ],
      "metadata": {
        "id": "3P2pZGp8Ql1-"
      },
      "execution_count": null,
      "outputs": []
    },
    {
      "cell_type": "code",
      "source": [
        "\n",
        "# Data augmentation and preparation\n",
        "datagen = ImageDataGenerator(\n",
        "    rescale=1./255,  # Rescale pixel values\n",
        "    rotation_range=40,  # Randomly rotate images\n",
        "    width_shift_range=0.2,  # Randomly shift images horizontally\n",
        "    height_shift_range=0.2,  # Randomly shift images vertically\n",
        "    shear_range=0.2,  # Shear transformation\n",
        "    zoom_range=0.2,  # Randomly zoom in/out on images\n",
        "    horizontal_flip=True,  # Randomly flip images horizontally\n",
        "    fill_mode='nearest',  # Fill in missing pixels after transformations\n",
        "    validation_split=0.2  # Split data for validation\n",
        ")\n",
        "\n",
        "# Create training and validation generators\n",
        "# This is done to create a binary classification problem with two classes ('go' and 'stop'),\n",
        "\n",
        "df_bulb['Annotation tag'] = df_bulb['Annotation tag'].apply(lambda x: 'stop' if x == 'go' and np.random.rand() > 0.5 else x)\n",
        "\n",
        "# Create a training data generator\n",
        "train_generator = datagen.flow_from_dataframe(\n",
        "    dataframe=df_bulb,          # Use the DataFrame containing image paths and labels\n",
        "    directory=image_folder_path,  # The directory where the images are stored\n",
        "    x_col='Filename',            # Column in the DataFrame that contains the filenames\n",
        "    y_col='Annotation tag',      # Column in the DataFrame that contains the labels\n",
        "    target_size=(64, 64),        # Resize all images to 64x64 pixels\n",
        "    batch_size=32,               # Number of images to process in each batch\n",
        "    class_mode='binary',         # Perform binary classification ('go' or 'not go')\n",
        "    subset='training'            # Use this subset of data for training\n",
        ")\n",
        "\n",
        "# Create a validation data generator\n",
        "validation_generator = datagen.flow_from_dataframe(\n",
        "    dataframe=df_bulb,          # Use the same DataFrame for validation\n",
        "    directory=image_folder_path,  # The directory where the images are stored\n",
        "    x_col='Filename',            # Column in the DataFrame that contains the filenames\n",
        "    y_col='Annotation tag',      # Column in the DataFrame that contains the labels\n",
        "    target_size=(64, 64),        # Resize all images to 64x64 pixels\n",
        "    batch_size=32,               # Number of images to process in each batch\n",
        "    class_mode='binary',         # Perform binary classification ('go' or 'not go')\n",
        "    subset='validation'          # Use this subset of data for validation\n",
        ")\n",
        "\n"
      ],
      "metadata": {
        "colab": {
          "base_uri": "https://localhost:8080/"
        },
        "id": "JWWFnMNwRLQ-",
        "outputId": "e32e8c5c-fc89-4a6c-d514-9318cfab1983"
      },
      "execution_count": null,
      "outputs": [
        {
          "output_type": "stream",
          "name": "stdout",
          "text": [
            "Found 1508 validated image filenames belonging to 2 classes.\n",
            "Found 377 validated image filenames belonging to 2 classes.\n"
          ]
        }
      ]
    },
    {
      "cell_type": "code",
      "source": [
        "\n",
        "import tensorflow as tf\n",
        "from tensorflow.keras import layers, models\n",
        "\n",
        "# Define the CNN model\n",
        "model = models.Sequential([\n",
        "\n",
        "    # First convolutional layer with 64 filters, 3x3 kernel size, and ReLU activation\n",
        "    layers.Conv2D(64, (3, 3), activation='relu', input_shape=(64, 64, 3)),\n",
        "       # Apply Batch Normalization to stabilize and accelerate training\n",
        "    layers.BatchNormalization(),\n",
        "       # MaxPooling layer to reduce the spatial dimensions (2x2 pool size)\n",
        "    layers.MaxPooling2D((2, 2)),\n",
        "   # Second convolutional layer with 128 filters, 3x3 kernel size, and ReLU activation\n",
        "    layers.Conv2D(128, (3, 3), activation='relu'),\n",
        "      # Apply Batch Normalization to stabilize and accelerate training\n",
        "    layers.BatchNormalization(),\n",
        "    # MaxPooling layer to reduce the spatial dimensions (2x2 pool size)\n",
        "    layers.MaxPooling2D((2, 2)),\n",
        "  # Third convolutional layer with 128 filters, 3x3 kernel size, and ReLU activation\n",
        "    layers.Conv2D(128, (3, 3), activation='relu'),\n",
        "      # Apply Batch Normalization to stabilize and accelerate training\n",
        "    layers.BatchNormalization(),\n",
        "      # MaxPooling layer to reduce the spatial dimensions (2x2 pool size)\n",
        "    layers.MaxPooling2D((2, 2)),\n",
        "   # Flatten the output from the convolutional layers to feed into the fully connected layers\n",
        "    layers.Flatten(),\n",
        "      # Fully connected layer with 512 units and ReLU activation\n",
        "    layers.Dense(512, activation='relu'),\n",
        "     # Dropout layer to prevent overfitting by randomly dropping 50% of the units\n",
        "    layers.Dropout(0.5),\n",
        "     # Output layer with 1 unit and sigmoid activation for binary classification\n",
        "    layers.Dense(1, activation='sigmoid')\n",
        "])\n",
        "\n",
        "# Compile the model with Adam optimizer, binary crossentropy loss, and accuracy metric\n",
        "model.compile(optimizer=tf.keras.optimizers.Adam(learning_rate=0.00001),\n",
        "              loss='binary_crossentropy',\n",
        "              metrics=['accuracy'])\n",
        "\n",
        "# Display the model's architecture\n",
        "model.summary()\n",
        "\n"
      ],
      "metadata": {
        "colab": {
          "base_uri": "https://localhost:8080/",
          "height": 593
        },
        "id": "YlS4kfCcVrn0",
        "outputId": "b7384fff-d312-44f2-cdec-38bb893e20cd"
      },
      "execution_count": null,
      "outputs": [
        {
          "output_type": "display_data",
          "data": {
            "text/plain": [
              "\u001b[1mModel: \"sequential_3\"\u001b[0m\n"
            ],
            "text/html": [
              "<pre style=\"white-space:pre;overflow-x:auto;line-height:normal;font-family:Menlo,'DejaVu Sans Mono',consolas,'Courier New',monospace\"><span style=\"font-weight: bold\">Model: \"sequential_3\"</span>\n",
              "</pre>\n"
            ]
          },
          "metadata": {}
        },
        {
          "output_type": "display_data",
          "data": {
            "text/plain": [
              "┏━━━━━━━━━━━━━━━━━━━━━━━━━━━━━━━━━━━━━━┳━━━━━━━━━━━━━━━━━━━━━━━━━━━━━┳━━━━━━━━━━━━━━━━━┓\n",
              "┃\u001b[1m \u001b[0m\u001b[1mLayer (type)                        \u001b[0m\u001b[1m \u001b[0m┃\u001b[1m \u001b[0m\u001b[1mOutput Shape               \u001b[0m\u001b[1m \u001b[0m┃\u001b[1m \u001b[0m\u001b[1m        Param #\u001b[0m\u001b[1m \u001b[0m┃\n",
              "┡━━━━━━━━━━━━━━━━━━━━━━━━━━━━━━━━━━━━━━╇━━━━━━━━━━━━━━━━━━━━━━━━━━━━━╇━━━━━━━━━━━━━━━━━┩\n",
              "│ conv2d_9 (\u001b[38;5;33mConv2D\u001b[0m)                    │ (\u001b[38;5;45mNone\u001b[0m, \u001b[38;5;34m62\u001b[0m, \u001b[38;5;34m62\u001b[0m, \u001b[38;5;34m64\u001b[0m)          │           \u001b[38;5;34m1,792\u001b[0m │\n",
              "├──────────────────────────────────────┼─────────────────────────────┼─────────────────┤\n",
              "│ batch_normalization_9                │ (\u001b[38;5;45mNone\u001b[0m, \u001b[38;5;34m62\u001b[0m, \u001b[38;5;34m62\u001b[0m, \u001b[38;5;34m64\u001b[0m)          │             \u001b[38;5;34m256\u001b[0m │\n",
              "│ (\u001b[38;5;33mBatchNormalization\u001b[0m)                 │                             │                 │\n",
              "├──────────────────────────────────────┼─────────────────────────────┼─────────────────┤\n",
              "│ max_pooling2d_9 (\u001b[38;5;33mMaxPooling2D\u001b[0m)       │ (\u001b[38;5;45mNone\u001b[0m, \u001b[38;5;34m31\u001b[0m, \u001b[38;5;34m31\u001b[0m, \u001b[38;5;34m64\u001b[0m)          │               \u001b[38;5;34m0\u001b[0m │\n",
              "├──────────────────────────────────────┼─────────────────────────────┼─────────────────┤\n",
              "│ conv2d_10 (\u001b[38;5;33mConv2D\u001b[0m)                   │ (\u001b[38;5;45mNone\u001b[0m, \u001b[38;5;34m29\u001b[0m, \u001b[38;5;34m29\u001b[0m, \u001b[38;5;34m128\u001b[0m)         │          \u001b[38;5;34m73,856\u001b[0m │\n",
              "├──────────────────────────────────────┼─────────────────────────────┼─────────────────┤\n",
              "│ batch_normalization_10               │ (\u001b[38;5;45mNone\u001b[0m, \u001b[38;5;34m29\u001b[0m, \u001b[38;5;34m29\u001b[0m, \u001b[38;5;34m128\u001b[0m)         │             \u001b[38;5;34m512\u001b[0m │\n",
              "│ (\u001b[38;5;33mBatchNormalization\u001b[0m)                 │                             │                 │\n",
              "├──────────────────────────────────────┼─────────────────────────────┼─────────────────┤\n",
              "│ max_pooling2d_10 (\u001b[38;5;33mMaxPooling2D\u001b[0m)      │ (\u001b[38;5;45mNone\u001b[0m, \u001b[38;5;34m14\u001b[0m, \u001b[38;5;34m14\u001b[0m, \u001b[38;5;34m128\u001b[0m)         │               \u001b[38;5;34m0\u001b[0m │\n",
              "├──────────────────────────────────────┼─────────────────────────────┼─────────────────┤\n",
              "│ conv2d_11 (\u001b[38;5;33mConv2D\u001b[0m)                   │ (\u001b[38;5;45mNone\u001b[0m, \u001b[38;5;34m12\u001b[0m, \u001b[38;5;34m12\u001b[0m, \u001b[38;5;34m128\u001b[0m)         │         \u001b[38;5;34m147,584\u001b[0m │\n",
              "├──────────────────────────────────────┼─────────────────────────────┼─────────────────┤\n",
              "│ batch_normalization_11               │ (\u001b[38;5;45mNone\u001b[0m, \u001b[38;5;34m12\u001b[0m, \u001b[38;5;34m12\u001b[0m, \u001b[38;5;34m128\u001b[0m)         │             \u001b[38;5;34m512\u001b[0m │\n",
              "│ (\u001b[38;5;33mBatchNormalization\u001b[0m)                 │                             │                 │\n",
              "├──────────────────────────────────────┼─────────────────────────────┼─────────────────┤\n",
              "│ max_pooling2d_11 (\u001b[38;5;33mMaxPooling2D\u001b[0m)      │ (\u001b[38;5;45mNone\u001b[0m, \u001b[38;5;34m6\u001b[0m, \u001b[38;5;34m6\u001b[0m, \u001b[38;5;34m128\u001b[0m)           │               \u001b[38;5;34m0\u001b[0m │\n",
              "├──────────────────────────────────────┼─────────────────────────────┼─────────────────┤\n",
              "│ flatten_3 (\u001b[38;5;33mFlatten\u001b[0m)                  │ (\u001b[38;5;45mNone\u001b[0m, \u001b[38;5;34m4608\u001b[0m)                │               \u001b[38;5;34m0\u001b[0m │\n",
              "├──────────────────────────────────────┼─────────────────────────────┼─────────────────┤\n",
              "│ dense_6 (\u001b[38;5;33mDense\u001b[0m)                      │ (\u001b[38;5;45mNone\u001b[0m, \u001b[38;5;34m512\u001b[0m)                 │       \u001b[38;5;34m2,359,808\u001b[0m │\n",
              "├──────────────────────────────────────┼─────────────────────────────┼─────────────────┤\n",
              "│ dropout_3 (\u001b[38;5;33mDropout\u001b[0m)                  │ (\u001b[38;5;45mNone\u001b[0m, \u001b[38;5;34m512\u001b[0m)                 │               \u001b[38;5;34m0\u001b[0m │\n",
              "├──────────────────────────────────────┼─────────────────────────────┼─────────────────┤\n",
              "│ dense_7 (\u001b[38;5;33mDense\u001b[0m)                      │ (\u001b[38;5;45mNone\u001b[0m, \u001b[38;5;34m1\u001b[0m)                   │             \u001b[38;5;34m513\u001b[0m │\n",
              "└──────────────────────────────────────┴─────────────────────────────┴─────────────────┘\n"
            ],
            "text/html": [
              "<pre style=\"white-space:pre;overflow-x:auto;line-height:normal;font-family:Menlo,'DejaVu Sans Mono',consolas,'Courier New',monospace\">┏━━━━━━━━━━━━━━━━━━━━━━━━━━━━━━━━━━━━━━┳━━━━━━━━━━━━━━━━━━━━━━━━━━━━━┳━━━━━━━━━━━━━━━━━┓\n",
              "┃<span style=\"font-weight: bold\"> Layer (type)                         </span>┃<span style=\"font-weight: bold\"> Output Shape                </span>┃<span style=\"font-weight: bold\">         Param # </span>┃\n",
              "┡━━━━━━━━━━━━━━━━━━━━━━━━━━━━━━━━━━━━━━╇━━━━━━━━━━━━━━━━━━━━━━━━━━━━━╇━━━━━━━━━━━━━━━━━┩\n",
              "│ conv2d_9 (<span style=\"color: #0087ff; text-decoration-color: #0087ff\">Conv2D</span>)                    │ (<span style=\"color: #00d7ff; text-decoration-color: #00d7ff\">None</span>, <span style=\"color: #00af00; text-decoration-color: #00af00\">62</span>, <span style=\"color: #00af00; text-decoration-color: #00af00\">62</span>, <span style=\"color: #00af00; text-decoration-color: #00af00\">64</span>)          │           <span style=\"color: #00af00; text-decoration-color: #00af00\">1,792</span> │\n",
              "├──────────────────────────────────────┼─────────────────────────────┼─────────────────┤\n",
              "│ batch_normalization_9                │ (<span style=\"color: #00d7ff; text-decoration-color: #00d7ff\">None</span>, <span style=\"color: #00af00; text-decoration-color: #00af00\">62</span>, <span style=\"color: #00af00; text-decoration-color: #00af00\">62</span>, <span style=\"color: #00af00; text-decoration-color: #00af00\">64</span>)          │             <span style=\"color: #00af00; text-decoration-color: #00af00\">256</span> │\n",
              "│ (<span style=\"color: #0087ff; text-decoration-color: #0087ff\">BatchNormalization</span>)                 │                             │                 │\n",
              "├──────────────────────────────────────┼─────────────────────────────┼─────────────────┤\n",
              "│ max_pooling2d_9 (<span style=\"color: #0087ff; text-decoration-color: #0087ff\">MaxPooling2D</span>)       │ (<span style=\"color: #00d7ff; text-decoration-color: #00d7ff\">None</span>, <span style=\"color: #00af00; text-decoration-color: #00af00\">31</span>, <span style=\"color: #00af00; text-decoration-color: #00af00\">31</span>, <span style=\"color: #00af00; text-decoration-color: #00af00\">64</span>)          │               <span style=\"color: #00af00; text-decoration-color: #00af00\">0</span> │\n",
              "├──────────────────────────────────────┼─────────────────────────────┼─────────────────┤\n",
              "│ conv2d_10 (<span style=\"color: #0087ff; text-decoration-color: #0087ff\">Conv2D</span>)                   │ (<span style=\"color: #00d7ff; text-decoration-color: #00d7ff\">None</span>, <span style=\"color: #00af00; text-decoration-color: #00af00\">29</span>, <span style=\"color: #00af00; text-decoration-color: #00af00\">29</span>, <span style=\"color: #00af00; text-decoration-color: #00af00\">128</span>)         │          <span style=\"color: #00af00; text-decoration-color: #00af00\">73,856</span> │\n",
              "├──────────────────────────────────────┼─────────────────────────────┼─────────────────┤\n",
              "│ batch_normalization_10               │ (<span style=\"color: #00d7ff; text-decoration-color: #00d7ff\">None</span>, <span style=\"color: #00af00; text-decoration-color: #00af00\">29</span>, <span style=\"color: #00af00; text-decoration-color: #00af00\">29</span>, <span style=\"color: #00af00; text-decoration-color: #00af00\">128</span>)         │             <span style=\"color: #00af00; text-decoration-color: #00af00\">512</span> │\n",
              "│ (<span style=\"color: #0087ff; text-decoration-color: #0087ff\">BatchNormalization</span>)                 │                             │                 │\n",
              "├──────────────────────────────────────┼─────────────────────────────┼─────────────────┤\n",
              "│ max_pooling2d_10 (<span style=\"color: #0087ff; text-decoration-color: #0087ff\">MaxPooling2D</span>)      │ (<span style=\"color: #00d7ff; text-decoration-color: #00d7ff\">None</span>, <span style=\"color: #00af00; text-decoration-color: #00af00\">14</span>, <span style=\"color: #00af00; text-decoration-color: #00af00\">14</span>, <span style=\"color: #00af00; text-decoration-color: #00af00\">128</span>)         │               <span style=\"color: #00af00; text-decoration-color: #00af00\">0</span> │\n",
              "├──────────────────────────────────────┼─────────────────────────────┼─────────────────┤\n",
              "│ conv2d_11 (<span style=\"color: #0087ff; text-decoration-color: #0087ff\">Conv2D</span>)                   │ (<span style=\"color: #00d7ff; text-decoration-color: #00d7ff\">None</span>, <span style=\"color: #00af00; text-decoration-color: #00af00\">12</span>, <span style=\"color: #00af00; text-decoration-color: #00af00\">12</span>, <span style=\"color: #00af00; text-decoration-color: #00af00\">128</span>)         │         <span style=\"color: #00af00; text-decoration-color: #00af00\">147,584</span> │\n",
              "├──────────────────────────────────────┼─────────────────────────────┼─────────────────┤\n",
              "│ batch_normalization_11               │ (<span style=\"color: #00d7ff; text-decoration-color: #00d7ff\">None</span>, <span style=\"color: #00af00; text-decoration-color: #00af00\">12</span>, <span style=\"color: #00af00; text-decoration-color: #00af00\">12</span>, <span style=\"color: #00af00; text-decoration-color: #00af00\">128</span>)         │             <span style=\"color: #00af00; text-decoration-color: #00af00\">512</span> │\n",
              "│ (<span style=\"color: #0087ff; text-decoration-color: #0087ff\">BatchNormalization</span>)                 │                             │                 │\n",
              "├──────────────────────────────────────┼─────────────────────────────┼─────────────────┤\n",
              "│ max_pooling2d_11 (<span style=\"color: #0087ff; text-decoration-color: #0087ff\">MaxPooling2D</span>)      │ (<span style=\"color: #00d7ff; text-decoration-color: #00d7ff\">None</span>, <span style=\"color: #00af00; text-decoration-color: #00af00\">6</span>, <span style=\"color: #00af00; text-decoration-color: #00af00\">6</span>, <span style=\"color: #00af00; text-decoration-color: #00af00\">128</span>)           │               <span style=\"color: #00af00; text-decoration-color: #00af00\">0</span> │\n",
              "├──────────────────────────────────────┼─────────────────────────────┼─────────────────┤\n",
              "│ flatten_3 (<span style=\"color: #0087ff; text-decoration-color: #0087ff\">Flatten</span>)                  │ (<span style=\"color: #00d7ff; text-decoration-color: #00d7ff\">None</span>, <span style=\"color: #00af00; text-decoration-color: #00af00\">4608</span>)                │               <span style=\"color: #00af00; text-decoration-color: #00af00\">0</span> │\n",
              "├──────────────────────────────────────┼─────────────────────────────┼─────────────────┤\n",
              "│ dense_6 (<span style=\"color: #0087ff; text-decoration-color: #0087ff\">Dense</span>)                      │ (<span style=\"color: #00d7ff; text-decoration-color: #00d7ff\">None</span>, <span style=\"color: #00af00; text-decoration-color: #00af00\">512</span>)                 │       <span style=\"color: #00af00; text-decoration-color: #00af00\">2,359,808</span> │\n",
              "├──────────────────────────────────────┼─────────────────────────────┼─────────────────┤\n",
              "│ dropout_3 (<span style=\"color: #0087ff; text-decoration-color: #0087ff\">Dropout</span>)                  │ (<span style=\"color: #00d7ff; text-decoration-color: #00d7ff\">None</span>, <span style=\"color: #00af00; text-decoration-color: #00af00\">512</span>)                 │               <span style=\"color: #00af00; text-decoration-color: #00af00\">0</span> │\n",
              "├──────────────────────────────────────┼─────────────────────────────┼─────────────────┤\n",
              "│ dense_7 (<span style=\"color: #0087ff; text-decoration-color: #0087ff\">Dense</span>)                      │ (<span style=\"color: #00d7ff; text-decoration-color: #00d7ff\">None</span>, <span style=\"color: #00af00; text-decoration-color: #00af00\">1</span>)                   │             <span style=\"color: #00af00; text-decoration-color: #00af00\">513</span> │\n",
              "└──────────────────────────────────────┴─────────────────────────────┴─────────────────┘\n",
              "</pre>\n"
            ]
          },
          "metadata": {}
        },
        {
          "output_type": "display_data",
          "data": {
            "text/plain": [
              "\u001b[1m Total params: \u001b[0m\u001b[38;5;34m2,584,833\u001b[0m (9.86 MB)\n"
            ],
            "text/html": [
              "<pre style=\"white-space:pre;overflow-x:auto;line-height:normal;font-family:Menlo,'DejaVu Sans Mono',consolas,'Courier New',monospace\"><span style=\"font-weight: bold\"> Total params: </span><span style=\"color: #00af00; text-decoration-color: #00af00\">2,584,833</span> (9.86 MB)\n",
              "</pre>\n"
            ]
          },
          "metadata": {}
        },
        {
          "output_type": "display_data",
          "data": {
            "text/plain": [
              "\u001b[1m Trainable params: \u001b[0m\u001b[38;5;34m2,584,193\u001b[0m (9.86 MB)\n"
            ],
            "text/html": [
              "<pre style=\"white-space:pre;overflow-x:auto;line-height:normal;font-family:Menlo,'DejaVu Sans Mono',consolas,'Courier New',monospace\"><span style=\"font-weight: bold\"> Trainable params: </span><span style=\"color: #00af00; text-decoration-color: #00af00\">2,584,193</span> (9.86 MB)\n",
              "</pre>\n"
            ]
          },
          "metadata": {}
        },
        {
          "output_type": "display_data",
          "data": {
            "text/plain": [
              "\u001b[1m Non-trainable params: \u001b[0m\u001b[38;5;34m640\u001b[0m (2.50 KB)\n"
            ],
            "text/html": [
              "<pre style=\"white-space:pre;overflow-x:auto;line-height:normal;font-family:Menlo,'DejaVu Sans Mono',consolas,'Courier New',monospace\"><span style=\"font-weight: bold\"> Non-trainable params: </span><span style=\"color: #00af00; text-decoration-color: #00af00\">640</span> (2.50 KB)\n",
              "</pre>\n"
            ]
          },
          "metadata": {}
        }
      ]
    },
    {
      "cell_type": "code",
      "source": [
        "# Add EarlyStopping to prevent overfitting\n",
        "early_stopping = EarlyStopping(monitor='val_loss', patience=5, restore_best_weights=True)\n"
      ],
      "metadata": {
        "id": "o8w5NzXYDx85"
      },
      "execution_count": null,
      "outputs": []
    },
    {
      "cell_type": "code",
      "source": [
        "\n",
        "# Train the model code\n",
        "history = model.fit\n",
        "# Pass the training data generator to the fit function\n",
        "train_generator,\n",
        "# Define the number of steps per epoch, based on the size of the training data\n",
        "steps_per_epoch=train_generator.samples // 32,\n",
        "# Pass the validation data generator to the fit function for model evaluation\n",
        "validation_data=validation_generator,\n",
        "# Define the number of validation steps, based on the size of the validation data\n",
        "validation_steps=validation_generator.samples // 32,\n",
        "# Set the number of epochs (iterations over the entire dataset)\n",
        "epochs=30,\n",
        "# Include callbacks, such as early stopping, to prevent overfitting\n",
        "callbacks=[early_stopping]\n"
      ],
      "metadata": {
        "colab": {
          "base_uri": "https://localhost:8080/"
        },
        "id": "8DZZ_eU4DziQ",
        "outputId": "dbaff0a7-5b32-4db6-9a6e-65f99c374642"
      },
      "execution_count": null,
      "outputs": [
        {
          "output_type": "stream",
          "name": "stdout",
          "text": [
            "Epoch 1/30\n"
          ]
        },
        {
          "output_type": "stream",
          "name": "stderr",
          "text": [
            "/usr/local/lib/python3.10/dist-packages/keras/src/trainers/data_adapters/py_dataset_adapter.py:121: UserWarning: Your `PyDataset` class should call `super().__init__(**kwargs)` in its constructor. `**kwargs` can include `workers`, `use_multiprocessing`, `max_queue_size`. Do not pass these arguments to `fit()`, as they will be ignored.\n",
            "  self._warn_if_super_not_called()\n"
          ]
        },
        {
          "output_type": "stream",
          "name": "stdout",
          "text": [
            "\u001b[1m47/47\u001b[0m \u001b[32m━━━━━━━━━━━━━━━━━━━━\u001b[0m\u001b[37m\u001b[0m \u001b[1m135s\u001b[0m 2s/step - accuracy: 0.5275 - loss: 1.1683 - val_accuracy: 0.4773 - val_loss: 0.6972\n",
            "Epoch 2/30\n",
            "\u001b[1m 1/47\u001b[0m \u001b[37m━━━━━━━━━━━━━━━━━━━━\u001b[0m \u001b[1m59s\u001b[0m 1s/step - accuracy: 0.4062 - loss: 1.2147"
          ]
        },
        {
          "output_type": "stream",
          "name": "stderr",
          "text": [
            "/usr/lib/python3.10/contextlib.py:153: UserWarning: Your input ran out of data; interrupting training. Make sure that your dataset or generator can generate at least `steps_per_epoch * epochs` batches. You may need to use the `.repeat()` function when building your dataset.\n",
            "  self.gen.throw(typ, value, traceback)\n"
          ]
        },
        {
          "output_type": "stream",
          "name": "stdout",
          "text": [
            "\b\b\b\b\b\b\b\b\b\b\b\b\b\b\b\b\b\b\b\b\b\b\b\b\b\b\b\b\b\b\b\b\b\b\b\b\b\b\b\b\b\b\b\b\b\b\b\b\b\b\b\b\b\b\b\b\b\b\b\b\b\b\b\b\b\b\b\b\b\b\b\b\r\u001b[1m47/47\u001b[0m \u001b[32m━━━━━━━━━━━━━━━━━━━━\u001b[0m\u001b[37m\u001b[0m \u001b[1m11s\u001b[0m 208ms/step - accuracy: 0.4062 - loss: 1.2147 - val_accuracy: 0.4400 - val_loss: 0.6988\n",
            "Epoch 3/30\n",
            "\u001b[1m47/47\u001b[0m \u001b[32m━━━━━━━━━━━━━━━━━━━━\u001b[0m\u001b[37m\u001b[0m \u001b[1m115s\u001b[0m 1s/step - accuracy: 0.5117 - loss: 1.1815 - val_accuracy: 0.4801 - val_loss: 0.7064\n",
            "Epoch 4/30\n",
            "\u001b[1m47/47\u001b[0m \u001b[32m━━━━━━━━━━━━━━━━━━━━\u001b[0m\u001b[37m\u001b[0m \u001b[1m1s\u001b[0m 5ms/step - accuracy: 0.4688 - loss: 1.2009 - val_accuracy: 0.4000 - val_loss: 0.7261\n",
            "Epoch 5/30\n",
            "\u001b[1m47/47\u001b[0m \u001b[32m━━━━━━━━━━━━━━━━━━━━\u001b[0m\u001b[37m\u001b[0m \u001b[1m80s\u001b[0m 1s/step - accuracy: 0.5047 - loss: 1.1174 - val_accuracy: 0.4801 - val_loss: 0.7116\n",
            "Epoch 6/30\n",
            "\u001b[1m47/47\u001b[0m \u001b[32m━━━━━━━━━━━━━━━━━━━━\u001b[0m\u001b[37m\u001b[0m \u001b[1m1s\u001b[0m 3ms/step - accuracy: 0.4375 - loss: 1.1246 - val_accuracy: 0.4000 - val_loss: 0.7408\n"
          ]
        }
      ]
    },
    {
      "cell_type": "code",
      "source": [
        "# Evaluate the model on the validation set\n",
        "test_loss, test_acc = model.evaluate(validation_generator)\n",
        "print(f'Test accuracy: {test_acc}')"
      ],
      "metadata": {
        "colab": {
          "base_uri": "https://localhost:8080/"
        },
        "id": "jJixCYb5Fgr5",
        "outputId": "f2211b8f-a83d-4d04-a78a-0ecd30d7b37d"
      },
      "execution_count": null,
      "outputs": [
        {
          "output_type": "stream",
          "name": "stdout",
          "text": [
            "\u001b[1m12/12\u001b[0m \u001b[32m━━━━━━━━━━━━━━━━━━━━\u001b[0m\u001b[37m\u001b[0m \u001b[1m7s\u001b[0m 518ms/step - accuracy: 0.4567 - loss: 0.6997\n",
            "Test accuracy: 0.47480106353759766\n"
          ]
        }
      ]
    },
    {
      "cell_type": "code",
      "source": [
        "# Function to display images\n",
        "def display_images(images_folder, image_files, num_images=5):\n",
        "    plt.figure(figsize=(10, 10))\n",
        "    for i, image_name in enumerate(image_files[:num_images]):\n",
        "        image_path = os.path.join(images_folder, image_name)\n",
        "        img = Image.open(image_path)\n",
        "        plt.subplot(1, num_images, i + 1)\n",
        "        plt.imshow(img)\n",
        "        plt.title(image_name)\n",
        "        plt.axis('off')\n",
        "    plt.show()"
      ],
      "metadata": {
        "id": "XIHs7vpWFokH"
      },
      "execution_count": null,
      "outputs": []
    },
    {
      "cell_type": "code",
      "source": [
        "\n",
        "# Example usage of the display function\n",
        "# This helps in verifying that the images are loaded correctly\n",
        "#ready for furt processing and model training\n",
        "image_files = os.listdir(image_folder_path)\n",
        "display_images(image_folder_path, image_files)\n"
      ],
      "metadata": {
        "colab": {
          "base_uri": "https://localhost:8080/",
          "height": 159
        },
        "id": "IZOnDYeBFu5U",
        "outputId": "ba66b30c-3908-480c-bfeb-107f4daac34a"
      },
      "execution_count": null,
      "outputs": [
        {
          "output_type": "display_data",
          "data": {
            "text/plain": [
              "<Figure size 1000x1000 with 5 Axes>"
            ],
            "image/png": "[encoded data removed]"
          },
          "metadata": {}
        }
      ]
    },
    {
      "cell_type": "code",
      "source": [
        "\n",
        "\n",
        "    # Create an empty image (black image) with the size 64x64 pixels and 3 color channels (RGB)\n",
        "img_array = np.zeros((64, 64, 3))\n",
        "\n",
        "# Expand the dimensions of the image array to add a batch dimension (required by the model)\n",
        "img_array = np.expand_dims(img_array, axis=0)\n",
        "\n",
        "# Use the trained model to predict the probability that the image is \"go\"\n",
        "prediction = model.predict(img_array)\n",
        "\n",
        "# Print the predicted probability for the \"go\" class\n",
        "print(f'Probability of \"go\": {prediction[0][0]}')\n",
        "\n",
        "# Define the threshold for classification\n",
        "threshold = 0.5\n",
        "\n",
        "# Compare the predicted probability with the threshold to classify the image\n",
        "if prediction[0][0] > threshold:\n",
        "    print(\"The image is classified as 'go'\")  # If the probability is greater than 0.5, classify as \"go\"\n",
        "else:\n",
        "    print(\"The image is classified as 'not go'\")  # If the probability is 0.5 or less, classify as \"not go\"\n"
      ],
      "metadata": {
        "colab": {
          "base_uri": "https://localhost:8080/"
        },
        "id": "BqRGnza-F19K",
        "outputId": "0ddb90a2-3af5-4157-e6e5-ba5b0b181628"
      },
      "execution_count": null,
      "outputs": [
        {
          "output_type": "stream",
          "name": "stdout",
          "text": [
            "\u001b[1m1/1\u001b[0m \u001b[32m━━━━━━━━━━━━━━━━━━━━\u001b[0m\u001b[37m\u001b[0m \u001b[1m0s\u001b[0m 157ms/step\n",
            "Probability of \"go\": 0.4742961823940277\n",
            "The image is classified as 'not go'\n"
          ]
        }
      ]
    },
    {
      "cell_type": "code",
      "source": [
        "import os\n",
        "\n",
        "\n",
        "archive_path = '/content/drive/My Drive/archive-7/'\n",
        "\n",
        "print(\"Contents of archive-7:\")\n",
        "print(os.listdir(archive_path))\n",
        "\n",
        "\n",
        "day_train_path = os.path.join(archive_path, 'dayTrain/dayTrain/')\n",
        "print(\"\\nContents of dayTrain/dayTrain:\")\n",
        "print(os.listdir(day_train_path))\n",
        "\n",
        "frames_path = os.path.join(day_train_path, 'dayClip4/frames/')\n",
        "print(\"\\nContents of dayClip4/frames:\")\n",
        "print(os.listdir(frames_path))\n",
        "\n",
        "\n",
        "subfolder_path = os.path.join(sample_night_clip_path, 'sample-nightClip1/')\n",
        "print(\"\\nContents of sample-nightClip1/sample-nightClip1:\")\n",
        "print(os.listdir(subfolder_path))\n",
        "\n"
      ],
      "metadata": {
        "colab": {
          "base_uri": "https://localhost:8080/"
        },
        "id": "ulm8IWgkiJQE",
        "outputId": "5361b130-608e-43e6-fa5f-88f16b0cdcb7"
      },
      "execution_count": null,
      "outputs": [
        {
          "output_type": "stream",
          "name": "stdout",
          "text": [
            "Contents of archive-7:\n",
            "['daySequence2', 'dayTrain', 'sample-dayClip6', 'Annotations', 'nightTrain', 'nightSequence1', 'daySequence1', 'nightSequence2', 'sample-nightClip1']\n",
            "\n",
            "Contents of dayTrain/dayTrain:\n",
            "['dayClip7', 'dayClip1', 'dayClip9', 'dayClip12', 'dayClip4', 'dayClip6', 'dayClip13', 'dayClip11', 'dayClip5', 'dayClip8', 'dayClip2', 'dayClip10', 'dayClip3']\n",
            "\n",
            "Contents of dayClip4/frames:\n",
            "[]\n",
            "\n",
            "Contents of sample-nightClip1/sample-nightClip1:\n",
            "['frameAnnotationsBULB.csv', 'frameAnnotationsBOX.csv', 'frames']\n"
          ]
        }
      ]
    },
    {
      "cell_type": "code",
      "source": [
        "from tensorflow.keras.preprocessing import image\n",
        "import numpy as np\n",
        "\n",
        "\n",
        "img_path = '/content/drive/My Drive/archive-7/sample-nightClip1/sample-nightClip1/frames/nightClip1--00000.jpg'\n",
        "\n",
        "\n",
        "img = image.load_img(img_path, target_size=(64, 64))\n",
        "img_array = image.img_to_array(img)\n",
        "img_array = np.expand_dims(img_array, axis=0)\n",
        "img_array /= 255.0\n",
        "\n",
        "\n",
        "prediction = model.predict(img_array)\n",
        "print(f'Probability of \"go\": {prediction[0][0]}')\n",
        "\n",
        "\n",
        "threshold = 0.5\n",
        "if prediction[0][0] > threshold:\n",
        "    print(\"The image is classified as 'go'\")\n",
        "else:\n",
        "    print(\"The image is classified as 'not go'\")\n"
      ],
      "metadata": {
        "colab": {
          "base_uri": "https://localhost:8080/"
        },
        "id": "bOCicve9kMv9",
        "outputId": "387efc4f-2bef-44fd-9b2f-1b1544b32d87"
      },
      "execution_count": null,
      "outputs": [
        {
          "output_type": "stream",
          "name": "stdout",
          "text": [
            "\u001b[1m1/1\u001b[0m \u001b[32m━━━━━━━━━━━━━━━━━━━━\u001b[0m\u001b[37m\u001b[0m \u001b[1m0s\u001b[0m 28ms/step\n",
            "Probability of \"go\": 0.46869832277297974\n",
            "The image is classified as 'not go'\n"
          ]
        }
      ]
    },
    {
      "cell_type": "code",
      "source": [
        "model.save('traffic_sign_model.h5')"
      ],
      "metadata": {
        "colab": {
          "base_uri": "https://localhost:8080/"
        },
        "id": "2HMkCdYUlTj7",
        "outputId": "278b7fcd-016a-479d-eeff-04cfb2e2c006"
      },
      "execution_count": null,
      "outputs": [
        {
          "output_type": "stream",
          "name": "stderr",
          "text": [
            "WARNING:absl:You are saving your model as an HDF5 file via `model.save()` or `keras.saving.save_model(model)`. This file format is considered legacy. We recommend using instead the native Keras format, e.g. `model.save('my_model.keras')` or `keras.saving.save_model(model, 'my_model.keras')`. \n"
          ]
        }
      ]
    }
  ]
}